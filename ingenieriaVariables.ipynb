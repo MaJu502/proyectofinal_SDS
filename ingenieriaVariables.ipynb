{
 "cells": [
  {
   "cell_type": "markdown",
   "metadata": {},
   "source": [
    "# Parte 1: Implementación práctica"
   ]
  },
  {
   "cell_type": "markdown",
   "metadata": {},
   "source": [
    "Marco Jurado 20308"
   ]
  },
  {
   "cell_type": "code",
   "execution_count": 1,
   "metadata": {},
   "outputs": [],
   "source": [
    "#!pip install lightgbm\n",
    "#!pip install --upgrade lightgbm\n",
    "#!pip install category_encoders\n",
    "#!pip install geopy"
   ]
  },
  {
   "cell_type": "code",
   "execution_count": 2,
   "metadata": {},
   "outputs": [],
   "source": [
    "import pandas as pd\n",
    "from sklearn.model_selection import train_test_split\n",
    "import lightgbm as lgb\n",
    "from sklearn.metrics import accuracy_score\n",
    "from sklearn.preprocessing import LabelEncoder\n",
    "from geopy.distance import geodesic\n",
    "import numpy as np\n",
    "import logging"
   ]
  },
  {
   "cell_type": "code",
   "execution_count": 3,
   "metadata": {},
   "outputs": [],
   "source": [
    "logging.basicConfig(level=logging.INFO, format='%(asctime)s - %(levelname)s - %(message)s')"
   ]
  },
  {
   "cell_type": "code",
   "execution_count": 4,
   "metadata": {},
   "outputs": [
    {
     "data": {
      "text/html": [
       "<div>\n",
       "<style scoped>\n",
       "    .dataframe tbody tr th:only-of-type {\n",
       "        vertical-align: middle;\n",
       "    }\n",
       "\n",
       "    .dataframe tbody tr th {\n",
       "        vertical-align: top;\n",
       "    }\n",
       "\n",
       "    .dataframe thead th {\n",
       "        text-align: right;\n",
       "    }\n",
       "</style>\n",
       "<table border=\"1\" class=\"dataframe\">\n",
       "  <thead>\n",
       "    <tr style=\"text-align: right;\">\n",
       "      <th></th>\n",
       "      <th>trans_date_trans_time</th>\n",
       "      <th>cc_num</th>\n",
       "      <th>merchant</th>\n",
       "      <th>category</th>\n",
       "      <th>amt</th>\n",
       "      <th>first</th>\n",
       "      <th>last</th>\n",
       "      <th>gender</th>\n",
       "      <th>street</th>\n",
       "      <th>city</th>\n",
       "      <th>...</th>\n",
       "      <th>trans_num</th>\n",
       "      <th>unix_time</th>\n",
       "      <th>merch_lat</th>\n",
       "      <th>merch_long</th>\n",
       "      <th>is_fraud</th>\n",
       "      <th>amt_month</th>\n",
       "      <th>amt_year</th>\n",
       "      <th>amt_month_shopping_net_spend</th>\n",
       "      <th>count_month_shopping_net</th>\n",
       "      <th>first_time_at_merchant</th>\n",
       "    </tr>\n",
       "  </thead>\n",
       "  <tbody>\n",
       "    <tr>\n",
       "      <th>0</th>\n",
       "      <td>2019-01-01 00:00:18</td>\n",
       "      <td>2703186189652095</td>\n",
       "      <td>fraud_Rippin, Kub and Mann</td>\n",
       "      <td>misc_net</td>\n",
       "      <td>4.97</td>\n",
       "      <td>Jennifer</td>\n",
       "      <td>Banks</td>\n",
       "      <td>F</td>\n",
       "      <td>561 Perry Cove</td>\n",
       "      <td>Moravian Falls</td>\n",
       "      <td>...</td>\n",
       "      <td>0b242abb623afc578575680df30655b9</td>\n",
       "      <td>1325376018</td>\n",
       "      <td>36.011293</td>\n",
       "      <td>-82.048315</td>\n",
       "      <td>0</td>\n",
       "      <td>4.97</td>\n",
       "      <td>4.97</td>\n",
       "      <td>0.00</td>\n",
       "      <td>0.0</td>\n",
       "      <td>True</td>\n",
       "    </tr>\n",
       "    <tr>\n",
       "      <th>1</th>\n",
       "      <td>2019-01-01 00:00:44</td>\n",
       "      <td>630423337322</td>\n",
       "      <td>fraud_Heller, Gutmann and Zieme</td>\n",
       "      <td>grocery_pos</td>\n",
       "      <td>107.23</td>\n",
       "      <td>Stephanie</td>\n",
       "      <td>Gill</td>\n",
       "      <td>F</td>\n",
       "      <td>43039 Riley Greens Suite 393</td>\n",
       "      <td>Orient</td>\n",
       "      <td>...</td>\n",
       "      <td>1f76529f8574734946361c461b024d99</td>\n",
       "      <td>1325376044</td>\n",
       "      <td>49.159047</td>\n",
       "      <td>-118.186462</td>\n",
       "      <td>0</td>\n",
       "      <td>107.23</td>\n",
       "      <td>107.23</td>\n",
       "      <td>0.00</td>\n",
       "      <td>0.0</td>\n",
       "      <td>True</td>\n",
       "    </tr>\n",
       "    <tr>\n",
       "      <th>2</th>\n",
       "      <td>2019-01-01 00:00:51</td>\n",
       "      <td>38859492057661</td>\n",
       "      <td>fraud_Lind-Buckridge</td>\n",
       "      <td>entertainment</td>\n",
       "      <td>220.11</td>\n",
       "      <td>Edward</td>\n",
       "      <td>Sanchez</td>\n",
       "      <td>M</td>\n",
       "      <td>594 White Dale Suite 530</td>\n",
       "      <td>Malad City</td>\n",
       "      <td>...</td>\n",
       "      <td>a1a22d70485983eac12b5b88dad1cf95</td>\n",
       "      <td>1325376051</td>\n",
       "      <td>43.150704</td>\n",
       "      <td>-112.154481</td>\n",
       "      <td>0</td>\n",
       "      <td>220.11</td>\n",
       "      <td>220.11</td>\n",
       "      <td>0.00</td>\n",
       "      <td>0.0</td>\n",
       "      <td>True</td>\n",
       "    </tr>\n",
       "    <tr>\n",
       "      <th>3</th>\n",
       "      <td>2019-01-01 00:01:16</td>\n",
       "      <td>3534093764340240</td>\n",
       "      <td>fraud_Kutch, Hermiston and Farrell</td>\n",
       "      <td>gas_transport</td>\n",
       "      <td>45.00</td>\n",
       "      <td>Jeremy</td>\n",
       "      <td>White</td>\n",
       "      <td>M</td>\n",
       "      <td>9443 Cynthia Court Apt. 038</td>\n",
       "      <td>Boulder</td>\n",
       "      <td>...</td>\n",
       "      <td>6b849c168bdad6f867558c3793159a81</td>\n",
       "      <td>1325376076</td>\n",
       "      <td>47.034331</td>\n",
       "      <td>-112.561071</td>\n",
       "      <td>0</td>\n",
       "      <td>45.00</td>\n",
       "      <td>45.00</td>\n",
       "      <td>0.00</td>\n",
       "      <td>0.0</td>\n",
       "      <td>True</td>\n",
       "    </tr>\n",
       "    <tr>\n",
       "      <th>4</th>\n",
       "      <td>2019-01-01 00:03:06</td>\n",
       "      <td>375534208663984</td>\n",
       "      <td>fraud_Keeling-Crist</td>\n",
       "      <td>misc_pos</td>\n",
       "      <td>41.96</td>\n",
       "      <td>Tyler</td>\n",
       "      <td>Garcia</td>\n",
       "      <td>M</td>\n",
       "      <td>408 Bradley Rest</td>\n",
       "      <td>Doe Hill</td>\n",
       "      <td>...</td>\n",
       "      <td>a41d7549acf90789359a9aa5346dcb46</td>\n",
       "      <td>1325376186</td>\n",
       "      <td>38.674999</td>\n",
       "      <td>-78.632459</td>\n",
       "      <td>0</td>\n",
       "      <td>41.96</td>\n",
       "      <td>41.96</td>\n",
       "      <td>0.00</td>\n",
       "      <td>0.0</td>\n",
       "      <td>True</td>\n",
       "    </tr>\n",
       "    <tr>\n",
       "      <th>...</th>\n",
       "      <td>...</td>\n",
       "      <td>...</td>\n",
       "      <td>...</td>\n",
       "      <td>...</td>\n",
       "      <td>...</td>\n",
       "      <td>...</td>\n",
       "      <td>...</td>\n",
       "      <td>...</td>\n",
       "      <td>...</td>\n",
       "      <td>...</td>\n",
       "      <td>...</td>\n",
       "      <td>...</td>\n",
       "      <td>...</td>\n",
       "      <td>...</td>\n",
       "      <td>...</td>\n",
       "      <td>...</td>\n",
       "      <td>...</td>\n",
       "      <td>...</td>\n",
       "      <td>...</td>\n",
       "      <td>...</td>\n",
       "      <td>...</td>\n",
       "    </tr>\n",
       "    <tr>\n",
       "      <th>1852389</th>\n",
       "      <td>2020-12-31 23:59:07</td>\n",
       "      <td>30560609640617</td>\n",
       "      <td>fraud_Reilly and Sons</td>\n",
       "      <td>health_fitness</td>\n",
       "      <td>43.77</td>\n",
       "      <td>Michael</td>\n",
       "      <td>Olson</td>\n",
       "      <td>M</td>\n",
       "      <td>558 Michael Estates</td>\n",
       "      <td>Luray</td>\n",
       "      <td>...</td>\n",
       "      <td>9b1f753c79894c9f4b71f04581835ada</td>\n",
       "      <td>1388534347</td>\n",
       "      <td>39.946837</td>\n",
       "      <td>-91.333331</td>\n",
       "      <td>0</td>\n",
       "      <td>11619.63</td>\n",
       "      <td>72134.23</td>\n",
       "      <td>1014.44</td>\n",
       "      <td>11.0</td>\n",
       "      <td>False</td>\n",
       "    </tr>\n",
       "    <tr>\n",
       "      <th>1852390</th>\n",
       "      <td>2020-12-31 23:59:09</td>\n",
       "      <td>3556613125071656</td>\n",
       "      <td>fraud_Hoppe-Parisian</td>\n",
       "      <td>kids_pets</td>\n",
       "      <td>111.84</td>\n",
       "      <td>Jose</td>\n",
       "      <td>Vasquez</td>\n",
       "      <td>M</td>\n",
       "      <td>572 Davis Mountains</td>\n",
       "      <td>Lake Jackson</td>\n",
       "      <td>...</td>\n",
       "      <td>2090647dac2c89a1d86c514c427f5b91</td>\n",
       "      <td>1388534349</td>\n",
       "      <td>29.661049</td>\n",
       "      <td>-96.186633</td>\n",
       "      <td>0</td>\n",
       "      <td>15224.47</td>\n",
       "      <td>87115.43</td>\n",
       "      <td>3942.78</td>\n",
       "      <td>25.0</td>\n",
       "      <td>False</td>\n",
       "    </tr>\n",
       "    <tr>\n",
       "      <th>1852391</th>\n",
       "      <td>2020-12-31 23:59:15</td>\n",
       "      <td>6011724471098086</td>\n",
       "      <td>fraud_Rau-Robel</td>\n",
       "      <td>kids_pets</td>\n",
       "      <td>86.88</td>\n",
       "      <td>Ann</td>\n",
       "      <td>Lawson</td>\n",
       "      <td>F</td>\n",
       "      <td>144 Evans Islands Apt. 683</td>\n",
       "      <td>Burbank</td>\n",
       "      <td>...</td>\n",
       "      <td>6c5b7c8add471975aa0fec023b2e8408</td>\n",
       "      <td>1388534355</td>\n",
       "      <td>46.658340</td>\n",
       "      <td>-119.715054</td>\n",
       "      <td>0</td>\n",
       "      <td>26233.12</td>\n",
       "      <td>165389.30</td>\n",
       "      <td>2978.91</td>\n",
       "      <td>29.0</td>\n",
       "      <td>False</td>\n",
       "    </tr>\n",
       "    <tr>\n",
       "      <th>1852392</th>\n",
       "      <td>2020-12-31 23:59:24</td>\n",
       "      <td>4079773899158</td>\n",
       "      <td>fraud_Breitenberg LLC</td>\n",
       "      <td>travel</td>\n",
       "      <td>7.99</td>\n",
       "      <td>Eric</td>\n",
       "      <td>Preston</td>\n",
       "      <td>M</td>\n",
       "      <td>7020 Doyle Stream Apt. 951</td>\n",
       "      <td>Mesa</td>\n",
       "      <td>...</td>\n",
       "      <td>14392d723bb7737606b2700ac791b7aa</td>\n",
       "      <td>1388534364</td>\n",
       "      <td>44.470525</td>\n",
       "      <td>-117.080888</td>\n",
       "      <td>0</td>\n",
       "      <td>11787.71</td>\n",
       "      <td>90698.65</td>\n",
       "      <td>768.69</td>\n",
       "      <td>17.0</td>\n",
       "      <td>False</td>\n",
       "    </tr>\n",
       "    <tr>\n",
       "      <th>1852393</th>\n",
       "      <td>2020-12-31 23:59:34</td>\n",
       "      <td>4170689372027579</td>\n",
       "      <td>fraud_Dare-Marvin</td>\n",
       "      <td>entertainment</td>\n",
       "      <td>38.13</td>\n",
       "      <td>Samuel</td>\n",
       "      <td>Frey</td>\n",
       "      <td>M</td>\n",
       "      <td>830 Myers Plaza Apt. 384</td>\n",
       "      <td>Edmond</td>\n",
       "      <td>...</td>\n",
       "      <td>1765bb45b3aa3224b4cdcb6e7a96cee3</td>\n",
       "      <td>1388534374</td>\n",
       "      <td>36.210097</td>\n",
       "      <td>-97.036372</td>\n",
       "      <td>0</td>\n",
       "      <td>13871.45</td>\n",
       "      <td>116400.29</td>\n",
       "      <td>883.31</td>\n",
       "      <td>18.0</td>\n",
       "      <td>False</td>\n",
       "    </tr>\n",
       "  </tbody>\n",
       "</table>\n",
       "<p>1852394 rows × 27 columns</p>\n",
       "</div>"
      ],
      "text/plain": [
       "        trans_date_trans_time            cc_num  \\\n",
       "0         2019-01-01 00:00:18  2703186189652095   \n",
       "1         2019-01-01 00:00:44      630423337322   \n",
       "2         2019-01-01 00:00:51    38859492057661   \n",
       "3         2019-01-01 00:01:16  3534093764340240   \n",
       "4         2019-01-01 00:03:06   375534208663984   \n",
       "...                       ...               ...   \n",
       "1852389   2020-12-31 23:59:07    30560609640617   \n",
       "1852390   2020-12-31 23:59:09  3556613125071656   \n",
       "1852391   2020-12-31 23:59:15  6011724471098086   \n",
       "1852392   2020-12-31 23:59:24     4079773899158   \n",
       "1852393   2020-12-31 23:59:34  4170689372027579   \n",
       "\n",
       "                                   merchant        category     amt  \\\n",
       "0                fraud_Rippin, Kub and Mann        misc_net    4.97   \n",
       "1           fraud_Heller, Gutmann and Zieme     grocery_pos  107.23   \n",
       "2                      fraud_Lind-Buckridge   entertainment  220.11   \n",
       "3        fraud_Kutch, Hermiston and Farrell   gas_transport   45.00   \n",
       "4                       fraud_Keeling-Crist        misc_pos   41.96   \n",
       "...                                     ...             ...     ...   \n",
       "1852389               fraud_Reilly and Sons  health_fitness   43.77   \n",
       "1852390                fraud_Hoppe-Parisian       kids_pets  111.84   \n",
       "1852391                     fraud_Rau-Robel       kids_pets   86.88   \n",
       "1852392               fraud_Breitenberg LLC          travel    7.99   \n",
       "1852393                   fraud_Dare-Marvin   entertainment   38.13   \n",
       "\n",
       "             first     last gender                        street  \\\n",
       "0         Jennifer    Banks      F                561 Perry Cove   \n",
       "1        Stephanie     Gill      F  43039 Riley Greens Suite 393   \n",
       "2           Edward  Sanchez      M      594 White Dale Suite 530   \n",
       "3           Jeremy    White      M   9443 Cynthia Court Apt. 038   \n",
       "4            Tyler   Garcia      M              408 Bradley Rest   \n",
       "...            ...      ...    ...                           ...   \n",
       "1852389    Michael    Olson      M           558 Michael Estates   \n",
       "1852390       Jose  Vasquez      M           572 Davis Mountains   \n",
       "1852391        Ann   Lawson      F    144 Evans Islands Apt. 683   \n",
       "1852392       Eric  Preston      M    7020 Doyle Stream Apt. 951   \n",
       "1852393     Samuel     Frey      M      830 Myers Plaza Apt. 384   \n",
       "\n",
       "                   city  ...                         trans_num   unix_time  \\\n",
       "0        Moravian Falls  ...  0b242abb623afc578575680df30655b9  1325376018   \n",
       "1                Orient  ...  1f76529f8574734946361c461b024d99  1325376044   \n",
       "2            Malad City  ...  a1a22d70485983eac12b5b88dad1cf95  1325376051   \n",
       "3               Boulder  ...  6b849c168bdad6f867558c3793159a81  1325376076   \n",
       "4              Doe Hill  ...  a41d7549acf90789359a9aa5346dcb46  1325376186   \n",
       "...                 ...  ...                               ...         ...   \n",
       "1852389           Luray  ...  9b1f753c79894c9f4b71f04581835ada  1388534347   \n",
       "1852390    Lake Jackson  ...  2090647dac2c89a1d86c514c427f5b91  1388534349   \n",
       "1852391         Burbank  ...  6c5b7c8add471975aa0fec023b2e8408  1388534355   \n",
       "1852392            Mesa  ...  14392d723bb7737606b2700ac791b7aa  1388534364   \n",
       "1852393          Edmond  ...  1765bb45b3aa3224b4cdcb6e7a96cee3  1388534374   \n",
       "\n",
       "         merch_lat  merch_long  is_fraud amt_month   amt_year  \\\n",
       "0        36.011293  -82.048315         0      4.97       4.97   \n",
       "1        49.159047 -118.186462         0    107.23     107.23   \n",
       "2        43.150704 -112.154481         0    220.11     220.11   \n",
       "3        47.034331 -112.561071         0     45.00      45.00   \n",
       "4        38.674999  -78.632459         0     41.96      41.96   \n",
       "...            ...         ...       ...       ...        ...   \n",
       "1852389  39.946837  -91.333331         0  11619.63   72134.23   \n",
       "1852390  29.661049  -96.186633         0  15224.47   87115.43   \n",
       "1852391  46.658340 -119.715054         0  26233.12  165389.30   \n",
       "1852392  44.470525 -117.080888         0  11787.71   90698.65   \n",
       "1852393  36.210097  -97.036372         0  13871.45  116400.29   \n",
       "\n",
       "        amt_month_shopping_net_spend  count_month_shopping_net  \\\n",
       "0                               0.00                       0.0   \n",
       "1                               0.00                       0.0   \n",
       "2                               0.00                       0.0   \n",
       "3                               0.00                       0.0   \n",
       "4                               0.00                       0.0   \n",
       "...                              ...                       ...   \n",
       "1852389                      1014.44                      11.0   \n",
       "1852390                      3942.78                      25.0   \n",
       "1852391                      2978.91                      29.0   \n",
       "1852392                       768.69                      17.0   \n",
       "1852393                       883.31                      18.0   \n",
       "\n",
       "         first_time_at_merchant  \n",
       "0                          True  \n",
       "1                          True  \n",
       "2                          True  \n",
       "3                          True  \n",
       "4                          True  \n",
       "...                         ...  \n",
       "1852389                   False  \n",
       "1852390                   False  \n",
       "1852391                   False  \n",
       "1852392                   False  \n",
       "1852393                   False  \n",
       "\n",
       "[1852394 rows x 27 columns]"
      ]
     },
     "execution_count": 4,
     "metadata": {},
     "output_type": "execute_result"
    }
   ],
   "source": [
    "data = pd.read_csv('fraud_feature_engineering_example.csv')\n",
    "data"
   ]
  },
  {
   "cell_type": "code",
   "execution_count": 5,
   "metadata": {},
   "outputs": [
    {
     "data": {
      "text/plain": [
       "(1852394, 27)"
      ]
     },
     "execution_count": 5,
     "metadata": {},
     "output_type": "execute_result"
    }
   ],
   "source": [
    "data.shape"
   ]
  },
  {
   "cell_type": "code",
   "execution_count": 6,
   "metadata": {},
   "outputs": [
    {
     "name": "stdout",
     "output_type": "stream",
     "text": [
      "<class 'pandas.core.frame.DataFrame'>\n",
      "RangeIndex: 1852394 entries, 0 to 1852393\n",
      "Data columns (total 27 columns):\n",
      " #   Column                        Dtype  \n",
      "---  ------                        -----  \n",
      " 0   trans_date_trans_time         object \n",
      " 1   cc_num                        int64  \n",
      " 2   merchant                      object \n",
      " 3   category                      object \n",
      " 4   amt                           float64\n",
      " 5   first                         object \n",
      " 6   last                          object \n",
      " 7   gender                        object \n",
      " 8   street                        object \n",
      " 9   city                          object \n",
      " 10  state                         object \n",
      " 11  zip                           int64  \n",
      " 12  lat                           float64\n",
      " 13  long                          float64\n",
      " 14  city_pop                      int64  \n",
      " 15  job                           object \n",
      " 16  dob                           object \n",
      " 17  trans_num                     object \n",
      " 18  unix_time                     int64  \n",
      " 19  merch_lat                     float64\n",
      " 20  merch_long                    float64\n",
      " 21  is_fraud                      int64  \n",
      " 22  amt_month                     float64\n",
      " 23  amt_year                      float64\n",
      " 24  amt_month_shopping_net_spend  float64\n",
      " 25  count_month_shopping_net      float64\n",
      " 26  first_time_at_merchant        bool   \n",
      "dtypes: bool(1), float64(9), int64(5), object(12)\n",
      "memory usage: 369.2+ MB\n"
     ]
    }
   ],
   "source": [
    "data.info()"
   ]
  },
  {
   "cell_type": "markdown",
   "metadata": {},
   "source": [
    "Eliminaremos algunas columnas irrelevantes"
   ]
  },
  {
   "cell_type": "code",
   "execution_count": 7,
   "metadata": {},
   "outputs": [],
   "source": [
    "columns_to_drop = ['first', 'last', 'city', 'state', 'zip', 'city_pop', 'job', 'dob']\n",
    "data.drop(columns_to_drop, axis=1, inplace=True)"
   ]
  },
  {
   "cell_type": "code",
   "execution_count": 8,
   "metadata": {},
   "outputs": [
    {
     "data": {
      "text/html": [
       "<div>\n",
       "<style scoped>\n",
       "    .dataframe tbody tr th:only-of-type {\n",
       "        vertical-align: middle;\n",
       "    }\n",
       "\n",
       "    .dataframe tbody tr th {\n",
       "        vertical-align: top;\n",
       "    }\n",
       "\n",
       "    .dataframe thead th {\n",
       "        text-align: right;\n",
       "    }\n",
       "</style>\n",
       "<table border=\"1\" class=\"dataframe\">\n",
       "  <thead>\n",
       "    <tr style=\"text-align: right;\">\n",
       "      <th></th>\n",
       "      <th>trans_date_trans_time</th>\n",
       "      <th>cc_num</th>\n",
       "      <th>merchant</th>\n",
       "      <th>category</th>\n",
       "      <th>amt</th>\n",
       "      <th>gender</th>\n",
       "      <th>street</th>\n",
       "      <th>lat</th>\n",
       "      <th>long</th>\n",
       "      <th>trans_num</th>\n",
       "      <th>unix_time</th>\n",
       "      <th>merch_lat</th>\n",
       "      <th>merch_long</th>\n",
       "      <th>is_fraud</th>\n",
       "      <th>amt_month</th>\n",
       "      <th>amt_year</th>\n",
       "      <th>amt_month_shopping_net_spend</th>\n",
       "      <th>count_month_shopping_net</th>\n",
       "      <th>first_time_at_merchant</th>\n",
       "    </tr>\n",
       "  </thead>\n",
       "  <tbody>\n",
       "    <tr>\n",
       "      <th>0</th>\n",
       "      <td>2019-01-01 00:00:18</td>\n",
       "      <td>2703186189652095</td>\n",
       "      <td>fraud_Rippin, Kub and Mann</td>\n",
       "      <td>misc_net</td>\n",
       "      <td>4.97</td>\n",
       "      <td>F</td>\n",
       "      <td>561 Perry Cove</td>\n",
       "      <td>36.0788</td>\n",
       "      <td>-81.1781</td>\n",
       "      <td>0b242abb623afc578575680df30655b9</td>\n",
       "      <td>1325376018</td>\n",
       "      <td>36.011293</td>\n",
       "      <td>-82.048315</td>\n",
       "      <td>0</td>\n",
       "      <td>4.97</td>\n",
       "      <td>4.97</td>\n",
       "      <td>0.0</td>\n",
       "      <td>0.0</td>\n",
       "      <td>True</td>\n",
       "    </tr>\n",
       "    <tr>\n",
       "      <th>1</th>\n",
       "      <td>2019-01-01 00:00:44</td>\n",
       "      <td>630423337322</td>\n",
       "      <td>fraud_Heller, Gutmann and Zieme</td>\n",
       "      <td>grocery_pos</td>\n",
       "      <td>107.23</td>\n",
       "      <td>F</td>\n",
       "      <td>43039 Riley Greens Suite 393</td>\n",
       "      <td>48.8878</td>\n",
       "      <td>-118.2105</td>\n",
       "      <td>1f76529f8574734946361c461b024d99</td>\n",
       "      <td>1325376044</td>\n",
       "      <td>49.159047</td>\n",
       "      <td>-118.186462</td>\n",
       "      <td>0</td>\n",
       "      <td>107.23</td>\n",
       "      <td>107.23</td>\n",
       "      <td>0.0</td>\n",
       "      <td>0.0</td>\n",
       "      <td>True</td>\n",
       "    </tr>\n",
       "    <tr>\n",
       "      <th>2</th>\n",
       "      <td>2019-01-01 00:00:51</td>\n",
       "      <td>38859492057661</td>\n",
       "      <td>fraud_Lind-Buckridge</td>\n",
       "      <td>entertainment</td>\n",
       "      <td>220.11</td>\n",
       "      <td>M</td>\n",
       "      <td>594 White Dale Suite 530</td>\n",
       "      <td>42.1808</td>\n",
       "      <td>-112.2620</td>\n",
       "      <td>a1a22d70485983eac12b5b88dad1cf95</td>\n",
       "      <td>1325376051</td>\n",
       "      <td>43.150704</td>\n",
       "      <td>-112.154481</td>\n",
       "      <td>0</td>\n",
       "      <td>220.11</td>\n",
       "      <td>220.11</td>\n",
       "      <td>0.0</td>\n",
       "      <td>0.0</td>\n",
       "      <td>True</td>\n",
       "    </tr>\n",
       "    <tr>\n",
       "      <th>3</th>\n",
       "      <td>2019-01-01 00:01:16</td>\n",
       "      <td>3534093764340240</td>\n",
       "      <td>fraud_Kutch, Hermiston and Farrell</td>\n",
       "      <td>gas_transport</td>\n",
       "      <td>45.00</td>\n",
       "      <td>M</td>\n",
       "      <td>9443 Cynthia Court Apt. 038</td>\n",
       "      <td>46.2306</td>\n",
       "      <td>-112.1138</td>\n",
       "      <td>6b849c168bdad6f867558c3793159a81</td>\n",
       "      <td>1325376076</td>\n",
       "      <td>47.034331</td>\n",
       "      <td>-112.561071</td>\n",
       "      <td>0</td>\n",
       "      <td>45.00</td>\n",
       "      <td>45.00</td>\n",
       "      <td>0.0</td>\n",
       "      <td>0.0</td>\n",
       "      <td>True</td>\n",
       "    </tr>\n",
       "    <tr>\n",
       "      <th>4</th>\n",
       "      <td>2019-01-01 00:03:06</td>\n",
       "      <td>375534208663984</td>\n",
       "      <td>fraud_Keeling-Crist</td>\n",
       "      <td>misc_pos</td>\n",
       "      <td>41.96</td>\n",
       "      <td>M</td>\n",
       "      <td>408 Bradley Rest</td>\n",
       "      <td>38.4207</td>\n",
       "      <td>-79.4629</td>\n",
       "      <td>a41d7549acf90789359a9aa5346dcb46</td>\n",
       "      <td>1325376186</td>\n",
       "      <td>38.674999</td>\n",
       "      <td>-78.632459</td>\n",
       "      <td>0</td>\n",
       "      <td>41.96</td>\n",
       "      <td>41.96</td>\n",
       "      <td>0.0</td>\n",
       "      <td>0.0</td>\n",
       "      <td>True</td>\n",
       "    </tr>\n",
       "  </tbody>\n",
       "</table>\n",
       "</div>"
      ],
      "text/plain": [
       "  trans_date_trans_time            cc_num                            merchant  \\\n",
       "0   2019-01-01 00:00:18  2703186189652095          fraud_Rippin, Kub and Mann   \n",
       "1   2019-01-01 00:00:44      630423337322     fraud_Heller, Gutmann and Zieme   \n",
       "2   2019-01-01 00:00:51    38859492057661                fraud_Lind-Buckridge   \n",
       "3   2019-01-01 00:01:16  3534093764340240  fraud_Kutch, Hermiston and Farrell   \n",
       "4   2019-01-01 00:03:06   375534208663984                 fraud_Keeling-Crist   \n",
       "\n",
       "        category     amt gender                        street      lat  \\\n",
       "0       misc_net    4.97      F                561 Perry Cove  36.0788   \n",
       "1    grocery_pos  107.23      F  43039 Riley Greens Suite 393  48.8878   \n",
       "2  entertainment  220.11      M      594 White Dale Suite 530  42.1808   \n",
       "3  gas_transport   45.00      M   9443 Cynthia Court Apt. 038  46.2306   \n",
       "4       misc_pos   41.96      M              408 Bradley Rest  38.4207   \n",
       "\n",
       "       long                         trans_num   unix_time  merch_lat  \\\n",
       "0  -81.1781  0b242abb623afc578575680df30655b9  1325376018  36.011293   \n",
       "1 -118.2105  1f76529f8574734946361c461b024d99  1325376044  49.159047   \n",
       "2 -112.2620  a1a22d70485983eac12b5b88dad1cf95  1325376051  43.150704   \n",
       "3 -112.1138  6b849c168bdad6f867558c3793159a81  1325376076  47.034331   \n",
       "4  -79.4629  a41d7549acf90789359a9aa5346dcb46  1325376186  38.674999   \n",
       "\n",
       "   merch_long  is_fraud  amt_month  amt_year  amt_month_shopping_net_spend  \\\n",
       "0  -82.048315         0       4.97      4.97                           0.0   \n",
       "1 -118.186462         0     107.23    107.23                           0.0   \n",
       "2 -112.154481         0     220.11    220.11                           0.0   \n",
       "3 -112.561071         0      45.00     45.00                           0.0   \n",
       "4  -78.632459         0      41.96     41.96                           0.0   \n",
       "\n",
       "   count_month_shopping_net  first_time_at_merchant  \n",
       "0                       0.0                    True  \n",
       "1                       0.0                    True  \n",
       "2                       0.0                    True  \n",
       "3                       0.0                    True  \n",
       "4                       0.0                    True  "
      ]
     },
     "execution_count": 8,
     "metadata": {},
     "output_type": "execute_result"
    }
   ],
   "source": [
    "data.head()"
   ]
  },
  {
   "cell_type": "code",
   "execution_count": 9,
   "metadata": {},
   "outputs": [
    {
     "data": {
      "text/html": [
       "<div>\n",
       "<style scoped>\n",
       "    .dataframe tbody tr th:only-of-type {\n",
       "        vertical-align: middle;\n",
       "    }\n",
       "\n",
       "    .dataframe tbody tr th {\n",
       "        vertical-align: top;\n",
       "    }\n",
       "\n",
       "    .dataframe thead th {\n",
       "        text-align: right;\n",
       "    }\n",
       "</style>\n",
       "<table border=\"1\" class=\"dataframe\">\n",
       "  <thead>\n",
       "    <tr style=\"text-align: right;\">\n",
       "      <th></th>\n",
       "      <th>cc_num</th>\n",
       "      <th>amt</th>\n",
       "      <th>lat</th>\n",
       "      <th>long</th>\n",
       "      <th>unix_time</th>\n",
       "      <th>merch_lat</th>\n",
       "      <th>merch_long</th>\n",
       "      <th>is_fraud</th>\n",
       "      <th>amt_month</th>\n",
       "      <th>amt_year</th>\n",
       "      <th>amt_month_shopping_net_spend</th>\n",
       "      <th>count_month_shopping_net</th>\n",
       "    </tr>\n",
       "  </thead>\n",
       "  <tbody>\n",
       "    <tr>\n",
       "      <th>count</th>\n",
       "      <td>1.852394e+06</td>\n",
       "      <td>1.852394e+06</td>\n",
       "      <td>1.852394e+06</td>\n",
       "      <td>1.852394e+06</td>\n",
       "      <td>1.852394e+06</td>\n",
       "      <td>1.852394e+06</td>\n",
       "      <td>1.852394e+06</td>\n",
       "      <td>1.852394e+06</td>\n",
       "      <td>1.852394e+06</td>\n",
       "      <td>1.852394e+06</td>\n",
       "      <td>1.852394e+06</td>\n",
       "      <td>1.852394e+06</td>\n",
       "    </tr>\n",
       "    <tr>\n",
       "      <th>mean</th>\n",
       "      <td>4.173860e+17</td>\n",
       "      <td>7.006357e+01</td>\n",
       "      <td>3.853931e+01</td>\n",
       "      <td>-9.022783e+01</td>\n",
       "      <td>1.358674e+09</td>\n",
       "      <td>3.853898e+01</td>\n",
       "      <td>-9.022794e+01</td>\n",
       "      <td>5.210015e-03</td>\n",
       "      <td>4.153689e+03</td>\n",
       "      <td>4.530560e+04</td>\n",
       "      <td>3.762028e+02</td>\n",
       "      <td>4.567241e+00</td>\n",
       "    </tr>\n",
       "    <tr>\n",
       "      <th>std</th>\n",
       "      <td>1.309115e+18</td>\n",
       "      <td>1.592540e+02</td>\n",
       "      <td>5.071470e+00</td>\n",
       "      <td>1.374789e+01</td>\n",
       "      <td>1.819508e+07</td>\n",
       "      <td>5.105604e+00</td>\n",
       "      <td>1.375969e+01</td>\n",
       "      <td>7.199217e-02</td>\n",
       "      <td>3.909005e+03</td>\n",
       "      <td>3.586752e+04</td>\n",
       "      <td>7.253531e+02</td>\n",
       "      <td>4.575502e+00</td>\n",
       "    </tr>\n",
       "    <tr>\n",
       "      <th>min</th>\n",
       "      <td>6.041621e+10</td>\n",
       "      <td>1.000000e+00</td>\n",
       "      <td>2.002710e+01</td>\n",
       "      <td>-1.656723e+02</td>\n",
       "      <td>1.325376e+09</td>\n",
       "      <td>1.902742e+01</td>\n",
       "      <td>-1.666716e+02</td>\n",
       "      <td>0.000000e+00</td>\n",
       "      <td>1.000000e+00</td>\n",
       "      <td>1.020000e+00</td>\n",
       "      <td>0.000000e+00</td>\n",
       "      <td>0.000000e+00</td>\n",
       "    </tr>\n",
       "    <tr>\n",
       "      <th>25%</th>\n",
       "      <td>1.800429e+14</td>\n",
       "      <td>9.640000e+00</td>\n",
       "      <td>3.466890e+01</td>\n",
       "      <td>-9.679800e+01</td>\n",
       "      <td>1.343017e+09</td>\n",
       "      <td>3.474012e+01</td>\n",
       "      <td>-9.689944e+01</td>\n",
       "      <td>0.000000e+00</td>\n",
       "      <td>1.344790e+03</td>\n",
       "      <td>1.734142e+04</td>\n",
       "      <td>9.020000e+00</td>\n",
       "      <td>1.000000e+00</td>\n",
       "    </tr>\n",
       "    <tr>\n",
       "      <th>50%</th>\n",
       "      <td>3.521417e+15</td>\n",
       "      <td>4.745000e+01</td>\n",
       "      <td>3.935430e+01</td>\n",
       "      <td>-8.747690e+01</td>\n",
       "      <td>1.357089e+09</td>\n",
       "      <td>3.936890e+01</td>\n",
       "      <td>-8.744069e+01</td>\n",
       "      <td>0.000000e+00</td>\n",
       "      <td>3.071990e+03</td>\n",
       "      <td>3.743910e+04</td>\n",
       "      <td>7.589000e+01</td>\n",
       "      <td>3.000000e+00</td>\n",
       "    </tr>\n",
       "    <tr>\n",
       "      <th>75%</th>\n",
       "      <td>4.642255e+15</td>\n",
       "      <td>8.310000e+01</td>\n",
       "      <td>4.194040e+01</td>\n",
       "      <td>-8.015800e+01</td>\n",
       "      <td>1.374581e+09</td>\n",
       "      <td>4.195626e+01</td>\n",
       "      <td>-8.024511e+01</td>\n",
       "      <td>0.000000e+00</td>\n",
       "      <td>5.738470e+03</td>\n",
       "      <td>6.472088e+04</td>\n",
       "      <td>4.259800e+02</td>\n",
       "      <td>7.000000e+00</td>\n",
       "    </tr>\n",
       "    <tr>\n",
       "      <th>max</th>\n",
       "      <td>4.992346e+18</td>\n",
       "      <td>2.894890e+04</td>\n",
       "      <td>6.669330e+01</td>\n",
       "      <td>-6.795030e+01</td>\n",
       "      <td>1.388534e+09</td>\n",
       "      <td>6.751027e+01</td>\n",
       "      <td>-6.695090e+01</td>\n",
       "      <td>1.000000e+00</td>\n",
       "      <td>4.326189e+04</td>\n",
       "      <td>2.190868e+05</td>\n",
       "      <td>1.204718e+04</td>\n",
       "      <td>4.800000e+01</td>\n",
       "    </tr>\n",
       "  </tbody>\n",
       "</table>\n",
       "</div>"
      ],
      "text/plain": [
       "             cc_num           amt           lat          long     unix_time  \\\n",
       "count  1.852394e+06  1.852394e+06  1.852394e+06  1.852394e+06  1.852394e+06   \n",
       "mean   4.173860e+17  7.006357e+01  3.853931e+01 -9.022783e+01  1.358674e+09   \n",
       "std    1.309115e+18  1.592540e+02  5.071470e+00  1.374789e+01  1.819508e+07   \n",
       "min    6.041621e+10  1.000000e+00  2.002710e+01 -1.656723e+02  1.325376e+09   \n",
       "25%    1.800429e+14  9.640000e+00  3.466890e+01 -9.679800e+01  1.343017e+09   \n",
       "50%    3.521417e+15  4.745000e+01  3.935430e+01 -8.747690e+01  1.357089e+09   \n",
       "75%    4.642255e+15  8.310000e+01  4.194040e+01 -8.015800e+01  1.374581e+09   \n",
       "max    4.992346e+18  2.894890e+04  6.669330e+01 -6.795030e+01  1.388534e+09   \n",
       "\n",
       "          merch_lat    merch_long      is_fraud     amt_month      amt_year  \\\n",
       "count  1.852394e+06  1.852394e+06  1.852394e+06  1.852394e+06  1.852394e+06   \n",
       "mean   3.853898e+01 -9.022794e+01  5.210015e-03  4.153689e+03  4.530560e+04   \n",
       "std    5.105604e+00  1.375969e+01  7.199217e-02  3.909005e+03  3.586752e+04   \n",
       "min    1.902742e+01 -1.666716e+02  0.000000e+00  1.000000e+00  1.020000e+00   \n",
       "25%    3.474012e+01 -9.689944e+01  0.000000e+00  1.344790e+03  1.734142e+04   \n",
       "50%    3.936890e+01 -8.744069e+01  0.000000e+00  3.071990e+03  3.743910e+04   \n",
       "75%    4.195626e+01 -8.024511e+01  0.000000e+00  5.738470e+03  6.472088e+04   \n",
       "max    6.751027e+01 -6.695090e+01  1.000000e+00  4.326189e+04  2.190868e+05   \n",
       "\n",
       "       amt_month_shopping_net_spend  count_month_shopping_net  \n",
       "count                  1.852394e+06              1.852394e+06  \n",
       "mean                   3.762028e+02              4.567241e+00  \n",
       "std                    7.253531e+02              4.575502e+00  \n",
       "min                    0.000000e+00              0.000000e+00  \n",
       "25%                    9.020000e+00              1.000000e+00  \n",
       "50%                    7.589000e+01              3.000000e+00  \n",
       "75%                    4.259800e+02              7.000000e+00  \n",
       "max                    1.204718e+04              4.800000e+01  "
      ]
     },
     "execution_count": 9,
     "metadata": {},
     "output_type": "execute_result"
    }
   ],
   "source": [
    "data.describe()"
   ]
  },
  {
   "cell_type": "code",
   "execution_count": 10,
   "metadata": {},
   "outputs": [
    {
     "data": {
      "text/plain": [
       "fraud_Kilback LLC                        6262\n",
       "fraud_Cormier LLC                        5246\n",
       "fraud_Schumm PLC                         5195\n",
       "fraud_Kuhn LLC                           5031\n",
       "fraud_Boyer PLC                          4999\n",
       "                                         ... \n",
       "fraud_Douglas, DuBuque and McKenzie      1101\n",
       "fraud_Treutel-King                       1098\n",
       "fraud_Satterfield-Lowe                   1095\n",
       "fraud_Hahn, Douglas and Schowalter       1091\n",
       "fraud_Ritchie, Bradtke and Stiedemann    1090\n",
       "Name: merchant, Length: 693, dtype: int64"
      ]
     },
     "execution_count": 10,
     "metadata": {},
     "output_type": "execute_result"
    }
   ],
   "source": [
    "data[\"merchant\"].value_counts()"
   ]
  },
  {
   "cell_type": "code",
   "execution_count": 11,
   "metadata": {},
   "outputs": [
    {
     "data": {
      "text/plain": [
       "0    1842743\n",
       "1       9651\n",
       "Name: is_fraud, dtype: int64"
      ]
     },
     "execution_count": 11,
     "metadata": {},
     "output_type": "execute_result"
    }
   ],
   "source": [
    "# proporcion 1 a 5 es aceptable (OJO)\n",
    "\n",
    "data[\"is_fraud\"].value_counts()"
   ]
  },
  {
   "cell_type": "code",
   "execution_count": 12,
   "metadata": {},
   "outputs": [
    {
     "data": {
      "text/plain": [
       "6538441737335434       4392\n",
       "30270432095985         4392\n",
       "6538891242532018       4386\n",
       "4364010865167176       4386\n",
       "4642255475285942       4386\n",
       "                       ... \n",
       "4714017207228610634       7\n",
       "4352307151555405069       7\n",
       "180097223252063           7\n",
       "6011732631674654          7\n",
       "4295296907373             6\n",
       "Name: cc_num, Length: 999, dtype: int64"
      ]
     },
     "execution_count": 12,
     "metadata": {},
     "output_type": "execute_result"
    }
   ],
   "source": [
    "data[\"cc_num\"].value_counts()"
   ]
  },
  {
   "cell_type": "code",
   "execution_count": 13,
   "metadata": {},
   "outputs": [],
   "source": [
    "data[\"trans_date_trans_time\"] = pd.to_datetime(data[\"trans_date_trans_time\"])"
   ]
  },
  {
   "cell_type": "code",
   "execution_count": 14,
   "metadata": {},
   "outputs": [],
   "source": [
    "data = data.sort_values(by='trans_date_trans_time')"
   ]
  },
  {
   "cell_type": "code",
   "execution_count": 15,
   "metadata": {},
   "outputs": [],
   "source": [
    "data[\"cc_num\"] = data[\"cc_num\"].astype(str)"
   ]
  },
  {
   "cell_type": "code",
   "execution_count": 16,
   "metadata": {},
   "outputs": [
    {
     "data": {
      "text/plain": [
       "0b242abb623afc578575680df30655b9    1\n",
       "ad44105b2defec28687e0c0c00db0dd2    1\n",
       "fff81009b323191d0a427a2af21e5bc7    1\n",
       "2341854d7594722011878c08ba3819dd    1\n",
       "f7f00d638b16a8b1045d8a8978b607bd    1\n",
       "                                   ..\n",
       "74745c7e44a5172e919b2ea2538d0edb    1\n",
       "71d44820f944faa2ed912043e859df48    1\n",
       "986d5219c856c1ddcafe1a4ad35b844e    1\n",
       "cf4fca8a9847c75240202201324dd34f    1\n",
       "1765bb45b3aa3224b4cdcb6e7a96cee3    1\n",
       "Name: trans_num, Length: 1852394, dtype: int64"
      ]
     },
     "execution_count": 16,
     "metadata": {},
     "output_type": "execute_result"
    }
   ],
   "source": [
    "data[\"trans_num\"].value_counts(dropna=False)"
   ]
  },
  {
   "cell_type": "code",
   "execution_count": 17,
   "metadata": {},
   "outputs": [
    {
     "data": {
      "text/plain": [
       "Index(['trans_date_trans_time', 'cc_num', 'merchant', 'category', 'amt',\n",
       "       'gender', 'street', 'lat', 'long', 'trans_num', 'unix_time',\n",
       "       'merch_lat', 'merch_long', 'is_fraud', 'amt_month', 'amt_year',\n",
       "       'amt_month_shopping_net_spend', 'count_month_shopping_net',\n",
       "       'first_time_at_merchant'],\n",
       "      dtype='object')"
      ]
     },
     "execution_count": 17,
     "metadata": {},
     "output_type": "execute_result"
    }
   ],
   "source": [
    "data.columns"
   ]
  },
  {
   "cell_type": "markdown",
   "metadata": {},
   "source": [
    "## Generar nuevas caracteristicas"
   ]
  },
  {
   "cell_type": "markdown",
   "metadata": {},
   "source": [
    "#### Tiempo desde la última transacción"
   ]
  },
  {
   "cell_type": "code",
   "execution_count": 18,
   "metadata": {},
   "outputs": [],
   "source": [
    "data['trans_date_trans_time'] = pd.to_datetime(data['trans_date_trans_time'])\n",
    "data.sort_values(by=['cc_num', 'trans_date_trans_time'], inplace=True)\n",
    "data['time_since_last_txn'] = data.groupby('cc_num')['trans_date_trans_time'].diff().apply(lambda x: x.total_seconds())"
   ]
  },
  {
   "cell_type": "markdown",
   "metadata": {},
   "source": [
    "#### Cantidad promedio de transacciones por día"
   ]
  },
  {
   "cell_type": "code",
   "execution_count": 19,
   "metadata": {},
   "outputs": [],
   "source": [
    "data['date'] = data['trans_date_trans_time'].dt.date\n",
    "daily_amount = data.groupby(['cc_num', 'date'])['amt'].sum().groupby('cc_num').mean().reset_index()\n",
    "daily_amount.columns = ['cc_num', 'avg_daily_amt']\n",
    "data = pd.merge(data, daily_amount, on='cc_num', how='left')"
   ]
  },
  {
   "cell_type": "markdown",
   "metadata": {},
   "source": [
    "#### Número de transacciones en la última hora"
   ]
  },
  {
   "cell_type": "code",
   "execution_count": 20,
   "metadata": {},
   "outputs": [],
   "source": [
    "data['hour'] = data['trans_date_trans_time'].dt.hour\n",
    "transactions_last_hour = data.groupby(['cc_num', 'date', 'hour'])['trans_num'].count().groupby('cc_num').mean().reset_index()\n",
    "transactions_last_hour.columns = ['cc_num', 'avg_hourly_transactions']\n",
    "data = pd.merge(data, transactions_last_hour, on='cc_num', how='left')\n"
   ]
  },
  {
   "cell_type": "markdown",
   "metadata": {},
   "source": [
    "#### Distancia desde la última transacción"
   ]
  },
  {
   "cell_type": "code",
   "execution_count": 21,
   "metadata": {},
   "outputs": [],
   "source": [
    "def calculate_distance(row):\n",
    "    if pd.isna(row['prev_lat']) or pd.isna(row['prev_long']) or pd.isna(row['merch_lat']) or pd.isna(row['merch_long']):\n",
    "        return 0.00\n",
    "\n",
    "    coords_1 = (row['prev_lat'], row['prev_long'])\n",
    "    coords_2 = (row['merch_lat'], row['merch_long'])\n",
    "    try:\n",
    "        distance = geodesic(coords_1, coords_2).km\n",
    "        return distance\n",
    "    except ValueError as e:\n",
    "        logging.error(f\"Error calculating distance for row: {e}\")\n",
    "        return np.nan"
   ]
  },
  {
   "cell_type": "code",
   "execution_count": 22,
   "metadata": {},
   "outputs": [],
   "source": [
    "data['trans_date_trans_time'] = pd.to_datetime(data['trans_date_trans_time'])\n",
    "data.sort_values(by=['cc_num', 'trans_date_trans_time'], inplace=True)\n",
    "data['prev_lat'] = data.groupby('cc_num')['lat'].shift(1)\n",
    "data['prev_long'] = data.groupby('cc_num')['long'].shift(1)\n"
   ]
  },
  {
   "cell_type": "code",
   "execution_count": 23,
   "metadata": {},
   "outputs": [],
   "source": [
    "data['distance_from_last_txn'] = data.apply(calculate_distance, axis=1)"
   ]
  },
  {
   "cell_type": "code",
   "execution_count": 24,
   "metadata": {},
   "outputs": [
    {
     "name": "stdout",
     "output_type": "stream",
     "text": [
      "            cc_num trans_date_trans_time  distance_from_last_txn\n",
      "0  180011453250192   2019-01-03 01:39:04                0.000000\n",
      "1  180011453250192   2019-01-03 05:51:22               47.805838\n",
      "2  180011453250192   2019-01-03 14:48:47               69.701338\n",
      "3  180011453250192   2019-01-04 10:39:10               58.825873\n",
      "4  180011453250192   2019-01-04 12:48:21               83.476707\n"
     ]
    }
   ],
   "source": [
    "print(data[['cc_num', 'trans_date_trans_time', 'distance_from_last_txn']].head())"
   ]
  },
  {
   "cell_type": "markdown",
   "metadata": {},
   "source": [
    "#### Variación de gastos mensuales"
   ]
  },
  {
   "cell_type": "code",
   "execution_count": 25,
   "metadata": {},
   "outputs": [],
   "source": [
    "data['month_year'] = data['trans_date_trans_time'].dt.to_period(\"M\")"
   ]
  },
  {
   "cell_type": "code",
   "execution_count": 26,
   "metadata": {},
   "outputs": [],
   "source": [
    "monthly_spending = data.groupby(['cc_num', 'month_year'])['amt'].sum()\n",
    "monthly_spending_variation = monthly_spending.groupby(level=0).pct_change().reset_index()\n",
    "monthly_spending_variation.columns = ['cc_num', 'month_year', 'monthly_spending_variation']"
   ]
  },
  {
   "cell_type": "code",
   "execution_count": 27,
   "metadata": {},
   "outputs": [],
   "source": [
    "data = pd.merge(data, monthly_spending_variation, on=['cc_num', 'month_year'], how='left')"
   ]
  },
  {
   "cell_type": "markdown",
   "metadata": {},
   "source": [
    "#### Día de la transacción y hora de la transacción"
   ]
  },
  {
   "cell_type": "code",
   "execution_count": 28,
   "metadata": {},
   "outputs": [],
   "source": [
    "data['weekday'] = data['trans_date_trans_time'].dt.dayofweek\n",
    "data['hour'] = data['trans_date_trans_time'].dt.hour"
   ]
  },
  {
   "cell_type": "markdown",
   "metadata": {},
   "source": [
    "#### Días festivos para detección de posibles patrones"
   ]
  },
  {
   "cell_type": "code",
   "execution_count": 29,
   "metadata": {},
   "outputs": [],
   "source": [
    "import holidays\n",
    "us_holidays = holidays.US()\n",
    "data['is_holiday'] = data['trans_date_trans_time'].dt.date.apply(lambda x: x in us_holidays)"
   ]
  },
  {
   "cell_type": "markdown",
   "metadata": {},
   "source": [
    "#### Tiempo desde la primera transacción"
   ]
  },
  {
   "cell_type": "code",
   "execution_count": 30,
   "metadata": {},
   "outputs": [],
   "source": [
    "data['first_txn_time'] = data.groupby('cc_num')['trans_date_trans_time'].transform('min')\n",
    "data['days_since_first_txn'] = (data['trans_date_trans_time'] - data['first_txn_time']).dt.days"
   ]
  },
  {
   "cell_type": "markdown",
   "metadata": {},
   "source": [
    "#### Cantidad de transacciones en los últimos X minutos/horas"
   ]
  },
  {
   "cell_type": "code",
   "execution_count": 31,
   "metadata": {},
   "outputs": [],
   "source": [
    "data['trans_date_trans_time'] = pd.to_datetime(data['trans_date_trans_time'])\n",
    "data.sort_values(by=['cc_num', 'trans_date_trans_time'], inplace=True)\n",
    "data.set_index('trans_date_trans_time', inplace=True)\n",
    "data['txn_count_last_24h'] = data.groupby('cc_num')['trans_num'].rolling('24h').count().values\n",
    "data.reset_index(inplace=True)\n"
   ]
  },
  {
   "cell_type": "markdown",
   "metadata": {},
   "source": [
    "#### Cantidad promedio y desviación estándar del monto en un periodo reciente"
   ]
  },
  {
   "cell_type": "code",
   "execution_count": 32,
   "metadata": {},
   "outputs": [],
   "source": [
    "data['trans_date_trans_time'] = pd.to_datetime(data['trans_date_trans_time'])\n",
    "data.sort_values(by=['cc_num', 'trans_date_trans_time'], inplace=True)\n",
    "data.set_index('trans_date_trans_time', inplace=True)\n",
    "data['avg_amt_last_24h'] = data.groupby('cc_num')['amt'].transform(\n",
    "    lambda x: x.rolling('24h').mean()\n",
    ")\n",
    "data['std_amt_last_24h'] = data.groupby('cc_num')['amt'].transform(\n",
    "    lambda x: x.rolling('24h').std()\n",
    ")\n",
    "data.reset_index(inplace=True)"
   ]
  },
  {
   "cell_type": "markdown",
   "metadata": {},
   "source": [
    "#### Ratio de transacciones internacionales o en línea"
   ]
  },
  {
   "cell_type": "code",
   "execution_count": 33,
   "metadata": {},
   "outputs": [],
   "source": [
    "data['online_txn_ratio'] = data.groupby('cc_num')['category'].apply(lambda x: (x == 'shopping_net').mean())"
   ]
  },
  {
   "cell_type": "markdown",
   "metadata": {},
   "source": [
    "#### Transacciones Mensuales por Tarjeta y Categoría"
   ]
  },
  {
   "cell_type": "code",
   "execution_count": 34,
   "metadata": {},
   "outputs": [],
   "source": [
    "data['trans_date'] = data['trans_date_trans_time'].dt.to_period('M')\n",
    "monthly_count = data.groupby(['cc_num', 'category', 'trans_date']).cumcount() + 1\n",
    "data['monthly_txn_count_by_cat'] = monthly_count"
   ]
  },
  {
   "cell_type": "markdown",
   "metadata": {},
   "source": [
    "#### Transacciones Anuales por Tarjeta y Categoría"
   ]
  },
  {
   "cell_type": "code",
   "execution_count": 35,
   "metadata": {},
   "outputs": [],
   "source": [
    "data['trans_year'] = data['trans_date_trans_time'].dt.year\n",
    "yearly_count = data.groupby(['cc_num', 'category', 'trans_year']).cumcount() + 1\n",
    "data['yearly_txn_count_by_cat'] = yearly_count"
   ]
  },
  {
   "cell_type": "markdown",
   "metadata": {},
   "source": [
    "#### Transacciones por Temporada por Tarjeta y Categoría"
   ]
  },
  {
   "cell_type": "code",
   "execution_count": 36,
   "metadata": {},
   "outputs": [],
   "source": [
    "def map_season(month):\n",
    "    if month in [3, 4, 5]:\n",
    "        return 'Spring'\n",
    "    elif month in [6, 7, 8]:\n",
    "        return 'Summer'\n",
    "    elif month in [9, 10, 11]:\n",
    "        return 'Fall'\n",
    "    else:\n",
    "        return 'Winter'\n",
    "\n",
    "data['season'] = data['trans_date_trans_time'].dt.month.apply(map_season)"
   ]
  },
  {
   "cell_type": "code",
   "execution_count": 37,
   "metadata": {},
   "outputs": [],
   "source": [
    "seasonal_count = data.groupby(['cc_num', 'category', 'season']).cumcount() + 1\n",
    "data['seasonal_txn_count_by_cat'] = seasonal_count"
   ]
  },
  {
   "cell_type": "markdown",
   "metadata": {},
   "source": [
    "#### Velocidad de Transacción"
   ]
  },
  {
   "cell_type": "code",
   "execution_count": 38,
   "metadata": {},
   "outputs": [],
   "source": [
    "data['time_diff_hours'] = data.groupby('cc_num')['trans_date_trans_time'].diff().astype('timedelta64[h]')\n",
    "data['transaction_speed'] = data['distance_from_last_txn'] / data['time_diff_hours']\n",
    "data['transaction_speed'].fillna(0, inplace=True)"
   ]
  },
  {
   "cell_type": "markdown",
   "metadata": {},
   "source": [
    "#### Ratios de Gasto"
   ]
  },
  {
   "cell_type": "code",
   "execution_count": 39,
   "metadata": {},
   "outputs": [],
   "source": [
    "data['amt_to_daily_avg'] = data['amt'] / data['avg_daily_amt']\n",
    "monthly_avg_amt = data.groupby(['cc_num', 'month_year'])['amt'].transform('mean')\n",
    "data['amt_to_monthly_avg'] = data['amt'] / monthly_avg_amt"
   ]
  },
  {
   "cell_type": "markdown",
   "metadata": {},
   "source": [
    "#### Frecuencia de Transacciones en Cortos Períodos"
   ]
  },
  {
   "cell_type": "code",
   "execution_count": 40,
   "metadata": {},
   "outputs": [],
   "source": [
    "data['trans_date_trans_time'] = pd.to_datetime(data['trans_date_trans_time'])\n",
    "data.set_index('trans_date_trans_time', inplace=True)\n",
    "data['txn_count_last_hour'] = data.groupby('cc_num')['trans_num'].rolling('1h').count().values\n",
    "data.reset_index(inplace=True)"
   ]
  },
  {
   "cell_type": "markdown",
   "metadata": {},
   "source": [
    "#### Uso de Nuevos Comerciantes"
   ]
  },
  {
   "cell_type": "code",
   "execution_count": 41,
   "metadata": {},
   "outputs": [],
   "source": [
    "data.sort_values(by=['cc_num', 'trans_date_trans_time'], inplace=True)\n",
    "data['new_merchant'] = (~data['merchant'].duplicated()) & (data['merchant'] != data.groupby('cc_num')['merchant'].shift(1))"
   ]
  },
  {
   "cell_type": "markdown",
   "metadata": {},
   "source": [
    "#### Cambio de Patrón de Gasto"
   ]
  },
  {
   "cell_type": "code",
   "execution_count": 42,
   "metadata": {},
   "outputs": [],
   "source": [
    "if not isinstance(data.index, pd.DatetimeIndex):\n",
    "    if 'trans_date_trans_time' in data.columns:\n",
    "        data.set_index('trans_date_trans_time', inplace=True)\n",
    "    else:\n",
    "        data.reset_index(inplace=True)\n",
    "        data['trans_date_trans_time'] = pd.to_datetime(data['trans_date_trans_time'])\n",
    "        data.set_index('trans_date_trans_time', inplace=True)\n",
    "data['year'] = data.index.year\n",
    "annual_avg_amt = data.groupby(['cc_num', 'year'])['amt'].transform('mean')\n",
    "data['amt_to_annual_avg'] = data['amt'] / annual_avg_amt\n"
   ]
  },
  {
   "cell_type": "code",
   "execution_count": 43,
   "metadata": {},
   "outputs": [
    {
     "name": "stdout",
     "output_type": "stream",
     "text": [
      "Número de columnas: 50\n"
     ]
    }
   ],
   "source": [
    "num_columns = len(data.columns)\n",
    "print(\"Número de columnas:\", num_columns)"
   ]
  },
  {
   "cell_type": "code",
   "execution_count": 44,
   "metadata": {},
   "outputs": [
    {
     "data": {
      "text/plain": [
       "Index(['cc_num', 'merchant', 'category', 'amt', 'gender', 'street', 'lat',\n",
       "       'long', 'trans_num', 'unix_time', 'merch_lat', 'merch_long', 'is_fraud',\n",
       "       'amt_month', 'amt_year', 'amt_month_shopping_net_spend',\n",
       "       'count_month_shopping_net', 'first_time_at_merchant',\n",
       "       'time_since_last_txn', 'date', 'avg_daily_amt', 'hour',\n",
       "       'avg_hourly_transactions', 'prev_lat', 'prev_long',\n",
       "       'distance_from_last_txn', 'month_year', 'monthly_spending_variation',\n",
       "       'weekday', 'is_holiday', 'first_txn_time', 'days_since_first_txn',\n",
       "       'txn_count_last_24h', 'avg_amt_last_24h', 'std_amt_last_24h',\n",
       "       'online_txn_ratio', 'trans_date', 'monthly_txn_count_by_cat',\n",
       "       'trans_year', 'yearly_txn_count_by_cat', 'season',\n",
       "       'seasonal_txn_count_by_cat', 'time_diff_hours', 'transaction_speed',\n",
       "       'amt_to_daily_avg', 'amt_to_monthly_avg', 'txn_count_last_hour',\n",
       "       'new_merchant', 'year', 'amt_to_annual_avg'],\n",
       "      dtype='object')"
      ]
     },
     "execution_count": 44,
     "metadata": {},
     "output_type": "execute_result"
    }
   ],
   "source": [
    "data.columns"
   ]
  },
  {
   "cell_type": "markdown",
   "metadata": {},
   "source": [
    "Finalmente limpiamos las ultimas variables que pueden generar que nuestros modelos tengan tendencias que no queremos"
   ]
  },
  {
   "cell_type": "code",
   "execution_count": 45,
   "metadata": {},
   "outputs": [],
   "source": [
    "existing_columns_to_drop = [col for col in ['gender', 'street', 'date', 'year'] if col in data.columns]\n",
    "if existing_columns_to_drop:\n",
    "    data.drop(columns=existing_columns_to_drop, axis=1, inplace=True)"
   ]
  },
  {
   "cell_type": "code",
   "execution_count": 46,
   "metadata": {},
   "outputs": [],
   "source": [
    "data.reset_index(inplace=True)"
   ]
  },
  {
   "cell_type": "code",
   "execution_count": 47,
   "metadata": {},
   "outputs": [
    {
     "data": {
      "text/plain": [
       "Index(['trans_date_trans_time', 'cc_num', 'merchant', 'category', 'amt', 'lat',\n",
       "       'long', 'trans_num', 'unix_time', 'merch_lat', 'merch_long', 'is_fraud',\n",
       "       'amt_month', 'amt_year', 'amt_month_shopping_net_spend',\n",
       "       'count_month_shopping_net', 'first_time_at_merchant',\n",
       "       'time_since_last_txn', 'avg_daily_amt', 'hour',\n",
       "       'avg_hourly_transactions', 'prev_lat', 'prev_long',\n",
       "       'distance_from_last_txn', 'month_year', 'monthly_spending_variation',\n",
       "       'weekday', 'is_holiday', 'first_txn_time', 'days_since_first_txn',\n",
       "       'txn_count_last_24h', 'avg_amt_last_24h', 'std_amt_last_24h',\n",
       "       'online_txn_ratio', 'trans_date', 'monthly_txn_count_by_cat',\n",
       "       'trans_year', 'yearly_txn_count_by_cat', 'season',\n",
       "       'seasonal_txn_count_by_cat', 'time_diff_hours', 'transaction_speed',\n",
       "       'amt_to_daily_avg', 'amt_to_monthly_avg', 'txn_count_last_hour',\n",
       "       'new_merchant', 'amt_to_annual_avg'],\n",
       "      dtype='object')"
      ]
     },
     "execution_count": 47,
     "metadata": {},
     "output_type": "execute_result"
    }
   ],
   "source": [
    "data.columns"
   ]
  },
  {
   "cell_type": "code",
   "execution_count": 48,
   "metadata": {},
   "outputs": [
    {
     "name": "stdout",
     "output_type": "stream",
     "text": [
      "Dataset guardado como 'final_dataset.csv'.\n"
     ]
    }
   ],
   "source": [
    "try:\n",
    "    data.to_csv('final_dataset.csv', index=False)\n",
    "    print(\"Dataset guardado como 'final_dataset.csv'.\")\n",
    "except Exception as e:\n",
    "    print(f\"Ocurrió un error al guardar el archivo: {e}\")\n"
   ]
  }
 ],
 "metadata": {
  "kernelspec": {
   "display_name": "Python 3",
   "language": "python",
   "name": "python3"
  },
  "language_info": {
   "codemirror_mode": {
    "name": "ipython",
    "version": 3
   },
   "file_extension": ".py",
   "mimetype": "text/x-python",
   "name": "python",
   "nbconvert_exporter": "python",
   "pygments_lexer": "ipython3",
   "version": "3.10.5"
  }
 },
 "nbformat": 4,
 "nbformat_minor": 2
}
