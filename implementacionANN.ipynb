{
 "cells": [
  {
   "cell_type": "markdown",
   "metadata": {},
   "source": [
    "# Análisis de Transacciones Fraudulentas con ANN\n",
    "\n",
    "- Marco Antonio Jurado carnet 20308\n",
    "#### Fecha: 24/5/2024\n",
    "\n",
    "### Resumen\n",
    "Este proyecto tiene como objetivo la detección de transacciones fraudulentas utilizando el modelo de Machine Learning ANN. El análisis incluye:\n",
    "\n",
    "- Entrenamiento del modelo\n",
    "- Evaluación del modelo\n",
    "- Visualización de resultados\n",
    "\n",
    "### Contenido\n",
    "1. Entrenamiento del Modelo\n",
    "2. Evaluación del Modelo\n",
    "3. Conclusiones y Trabajo Futuro"
   ]
  },
  {
   "cell_type": "code",
   "execution_count": 1,
   "metadata": {},
   "outputs": [],
   "source": [
    "#!pip install lightgbm\n",
    "#!pip install --upgrade lightgbm\n",
    "#!pip install category_encoders\n",
    "#!pip install geopy"
   ]
  },
  {
   "cell_type": "code",
   "execution_count": 2,
   "metadata": {},
   "outputs": [],
   "source": [
    "import numpy as np\n",
    "import pandas as pd\n",
    "import tensorflow as tf\n",
    "from tensorflow.keras.models import Sequential\n",
    "from tensorflow.keras.layers import Dense\n",
    "from sklearn.model_selection import train_test_split\n",
    "from sklearn.preprocessing import StandardScaler\n",
    "from sklearn.metrics import f1_score, accuracy_score, precision_score, recall_score, confusion_matrix, roc_curve, auc, ConfusionMatrixDisplay\n",
    "import matplotlib.pyplot as plt\n",
    "import os\n",
    "import shutil"
   ]
  },
  {
   "cell_type": "markdown",
   "metadata": {},
   "source": [
    "Abrimos los datasets de cada mes que ya hemos balanceado"
   ]
  },
  {
   "cell_type": "code",
   "execution_count": 3,
   "metadata": {},
   "outputs": [],
   "source": [
    "input_dir = 'final_datasets'"
   ]
  },
  {
   "cell_type": "markdown",
   "metadata": {},
   "source": [
    "En este caso vamos a cargar los set de datos individuales de cada mes que hemos generado en previos pasos"
   ]
  },
  {
   "cell_type": "code",
   "execution_count": 4,
   "metadata": {},
   "outputs": [
    {
     "name": "stdout",
     "output_type": "stream",
     "text": [
      "Dataset para 2019-01 cargado desde: final_datasets\\resampled_data_2019_01.csv\n",
      "Dataset para 2019-02 cargado desde: final_datasets\\resampled_data_2019_02.csv\n",
      "Dataset para 2019-03 cargado desde: final_datasets\\resampled_data_2019_03.csv\n",
      "Dataset para 2019-04 cargado desde: final_datasets\\resampled_data_2019_04.csv\n",
      "Dataset para 2019-05 cargado desde: final_datasets\\resampled_data_2019_05.csv\n",
      "Dataset para 2019-06 cargado desde: final_datasets\\resampled_data_2019_06.csv\n",
      "Dataset para 2019-07 cargado desde: final_datasets\\resampled_data_2019_07.csv\n",
      "Dataset para 2019-08 cargado desde: final_datasets\\resampled_data_2019_08.csv\n",
      "Dataset para 2019-09 cargado desde: final_datasets\\resampled_data_2019_09.csv\n",
      "Dataset para 2019-10 cargado desde: final_datasets\\resampled_data_2019_10.csv\n",
      "Dataset para 2019-11 cargado desde: final_datasets\\resampled_data_2019_11.csv\n",
      "Dataset para 2019-12 cargado desde: final_datasets\\resampled_data_2019_12.csv\n",
      "Dataset para 2020-01 cargado desde: final_datasets\\resampled_data_2020_01.csv\n",
      "Dataset para 2020-02 cargado desde: final_datasets\\resampled_data_2020_02.csv\n",
      "Dataset para 2020-03 cargado desde: final_datasets\\resampled_data_2020_03.csv\n",
      "Dataset para 2020-04 cargado desde: final_datasets\\resampled_data_2020_04.csv\n",
      "Dataset para 2020-05 cargado desde: final_datasets\\resampled_data_2020_05.csv\n",
      "Dataset para 2020-06 cargado desde: final_datasets\\resampled_data_2020_06.csv\n",
      "Dataset para 2020-07 cargado desde: final_datasets\\resampled_data_2020_07.csv\n",
      "Dataset para 2020-08 cargado desde: final_datasets\\resampled_data_2020_08.csv\n",
      "Dataset para 2020-09 cargado desde: final_datasets\\resampled_data_2020_09.csv\n",
      "Dataset para 2020-10 cargado desde: final_datasets\\resampled_data_2020_10.csv\n",
      "Dataset para 2020-11 cargado desde: final_datasets\\resampled_data_2020_11.csv\n",
      "Dataset para 2020-12 cargado desde: final_datasets\\resampled_data_2020_12.csv\n"
     ]
    }
   ],
   "source": [
    "# Diccionario para almacenar los datasets\n",
    "monthly_datasets = {}\n",
    "\n",
    "# Listar todos los archivos en el directorio\n",
    "for file_name in os.listdir(input_dir):\n",
    "    if file_name.startswith('resampled_data_') and file_name.endswith('.csv'):\n",
    "        # Construir el path completo del archivo\n",
    "        file_path = os.path.join(input_dir, file_name)\n",
    "\n",
    "        # Extraer la fecha del nombre del archivo\n",
    "        date_str = file_name[len('resampled_data_'):-4]\n",
    "        month = pd.to_datetime(date_str, format='%Y_%m')\n",
    "\n",
    "        # Cargar el dataset\n",
    "        monthly_datasets[month] = pd.read_csv(file_path)\n",
    "        print(f\"Dataset para {month.strftime('%Y-%m')} cargado desde: {file_path}\")"
   ]
  },
  {
   "cell_type": "markdown",
   "metadata": {},
   "source": [
    "### Entrenamiento no incremental"
   ]
  },
  {
   "cell_type": "markdown",
   "metadata": {},
   "source": [
    "Vamos a configurar el modelo"
   ]
  },
  {
   "cell_type": "code",
   "execution_count": 5,
   "metadata": {},
   "outputs": [],
   "source": [
    "# Configuración del modelo ANN\n",
    "def create_ann_model(input_dim):\n",
    "    model = Sequential()\n",
    "    model.add(Dense(64, input_dim=input_dim, activation='relu'))\n",
    "    model.add(Dense(32, activation='relu'))\n",
    "    model.add(Dense(1, activation='sigmoid'))\n",
    "    model.compile(optimizer='adam', loss='binary_crossentropy', metrics=['accuracy'])\n",
    "    return model"
   ]
  },
  {
   "cell_type": "markdown",
   "metadata": {},
   "source": [
    "Vamos a combinar la data en un solo set para hacer el entrenamiento no incremental. Aqui tenemos que tener nuestras variables X y Y respectivamente para poder hacer el entrenamiento."
   ]
  },
  {
   "cell_type": "code",
   "execution_count": 6,
   "metadata": {},
   "outputs": [],
   "source": [
    "combined_data = pd.concat(monthly_datasets.values())\n",
    "X = combined_data.drop(['is_fraud'], axis=1)\n",
    "y = combined_data['is_fraud']\n",
    "X_train, X_val, y_train, y_val = train_test_split(X, y, test_size=0.3, random_state=42)"
   ]
  },
  {
   "cell_type": "markdown",
   "metadata": {},
   "source": [
    "Carpetas necesarias para los outputs"
   ]
  },
  {
   "cell_type": "code",
   "execution_count": 7,
   "metadata": {},
   "outputs": [],
   "source": [
    "folder_path = 'ANN_combined_performance'\n",
    "roc_folder = os.path.join(folder_path, 'roc_curves')\n",
    "conf_matrix_folder = os.path.join(folder_path, 'conf_matrices')\n",
    "metrics_folder = os.path.join(folder_path, 'metrics_texts')\n",
    "\n",
    "for path in [folder_path, roc_folder, conf_matrix_folder, metrics_folder]:\n",
    "    if os.path.exists(path):\n",
    "        shutil.rmtree(path)\n",
    "    os.makedirs(path)"
   ]
  },
  {
   "cell_type": "markdown",
   "metadata": {},
   "source": [
    "Entrenemos..."
   ]
  },
  {
   "cell_type": "code",
   "execution_count": 8,
   "metadata": {},
   "outputs": [
    {
     "name": "stdout",
     "output_type": "stream",
     "text": [
      "Epoch 1/10\n",
      "26807/26807 [==============================] - 47s 2ms/step - loss: 0.0540 - accuracy: 0.9809\n",
      "Epoch 2/10\n",
      "26807/26807 [==============================] - 41s 2ms/step - loss: 0.0334 - accuracy: 0.9881\n",
      "Epoch 3/10\n",
      "26807/26807 [==============================] - 39s 1ms/step - loss: 0.0267 - accuracy: 0.9906\n",
      "Epoch 4/10\n",
      "26807/26807 [==============================] - 39s 1ms/step - loss: 0.0233 - accuracy: 0.9918\n",
      "Epoch 5/10\n",
      "26807/26807 [==============================] - 39s 1ms/step - loss: 0.0212 - accuracy: 0.9925\n",
      "Epoch 6/10\n",
      "26807/26807 [==============================] - 41s 2ms/step - loss: 0.0198 - accuracy: 0.9930\n",
      "Epoch 7/10\n",
      "26807/26807 [==============================] - 39s 1ms/step - loss: 0.0186 - accuracy: 0.9934\n",
      "Epoch 8/10\n",
      "26807/26807 [==============================] - 41s 2ms/step - loss: 0.0176 - accuracy: 0.9939\n",
      "Epoch 9/10\n",
      "26807/26807 [==============================] - 40s 1ms/step - loss: 0.0170 - accuracy: 0.9941\n",
      "Epoch 10/10\n",
      "26807/26807 [==============================] - 40s 2ms/step - loss: 0.0163 - accuracy: 0.9943\n",
      "22977/22977 [==============================] - 23s 1ms/step\n"
     ]
    }
   ],
   "source": [
    "# Escalar los datos\n",
    "scaler = StandardScaler()\n",
    "X_train = scaler.fit_transform(X_train)\n",
    "X_val = scaler.transform(X_val)\n",
    "\n",
    "# Crear y entrenar el modelo ANN\n",
    "model = create_ann_model(X_train.shape[1])\n",
    "model.fit(X_train, y_train, epochs=10, batch_size=64, verbose=1)\n",
    "\n",
    "# Calcular métricas\n",
    "y_pred = model.predict(X_val)\n",
    "y_pred_binary = (y_pred >= 0.5).astype(int)\n",
    "f1 = f1_score(y_val, y_pred_binary)\n",
    "accuracy = accuracy_score(y_val, y_pred_binary)\n",
    "precision = precision_score(y_val, y_pred_binary)\n",
    "recall = recall_score(y_val, y_pred_binary)\n",
    "cm = confusion_matrix(y_val, y_pred_binary)"
   ]
  },
  {
   "cell_type": "markdown",
   "metadata": {},
   "source": [
    "Generamos los resultados del entrenamiento. Empezamos con la curva ROC"
   ]
  },
  {
   "cell_type": "code",
   "execution_count": 9,
   "metadata": {},
   "outputs": [],
   "source": [
    "fpr, tpr, _ = roc_curve(y_val, y_pred)\n",
    "roc_auc = auc(fpr, tpr)\n",
    "plt.figure(figsize=(10, 5))\n",
    "plt.plot(fpr, tpr, color='darkorange', lw=2, label=f'ROC curve (area = {roc_auc:.2f})')\n",
    "plt.plot([0, 1], [0, 1], color='navy', lw=2, linestyle='--')\n",
    "plt.xlim([0.0, 1.0])\n",
    "plt.ylim([0.0, 1.05])\n",
    "plt.xlabel('False Positive Rate')\n",
    "plt.ylabel('True Positive Rate')\n",
    "plt.title('ROC Curve for Combined Data')\n",
    "plt.legend(loc=\"lower right\")\n",
    "plt.savefig(os.path.join(roc_folder, 'roc_curve_combined.png'))\n",
    "plt.close()"
   ]
  },
  {
   "cell_type": "markdown",
   "metadata": {},
   "source": [
    "Matriz de confusión"
   ]
  },
  {
   "cell_type": "code",
   "execution_count": 10,
   "metadata": {},
   "outputs": [
    {
     "data": {
      "text/plain": [
       "<Figure size 600x500 with 0 Axes>"
      ]
     },
     "metadata": {},
     "output_type": "display_data"
    }
   ],
   "source": [
    "plt.figure(figsize=(6, 5))\n",
    "disp = ConfusionMatrixDisplay(confusion_matrix=cm)\n",
    "disp.plot(cmap=plt.cm.Blues)\n",
    "plt.title('Confusion Matrix for Combined Data')\n",
    "plt.savefig(os.path.join(conf_matrix_folder, 'conf_matrix_combined.png'))\n",
    "plt.close()"
   ]
  },
  {
   "cell_type": "markdown",
   "metadata": {},
   "source": [
    "Metricas F1, Precisión, Efectividad y Recall"
   ]
  },
  {
   "cell_type": "code",
   "execution_count": 11,
   "metadata": {},
   "outputs": [
    {
     "name": "stdout",
     "output_type": "stream",
     "text": [
      "Revisa las carpetas dentro de 'ANN_combined_performance' para ver el desempeño del modelo.\n"
     ]
    }
   ],
   "source": [
    "metrics_file_path = os.path.join(metrics_folder, 'model_metrics.txt')\n",
    "with open(metrics_file_path, 'w') as metrics_file:\n",
    "    metrics_file.write(\"Metrics for Combined Data:\\n\")\n",
    "    metrics_file.write(f\"F1 Score: {f1:.2f}\\n\")\n",
    "    metrics_file.write(f\"Accuracy: {accuracy:.2f}\\n\")\n",
    "    metrics_file.write(f\"Precision: {precision:.2f}\\n\")\n",
    "    metrics_file.write(f\"Recall: {recall:.2f}\\n\")\n",
    "    metrics_file.write(f\"Confusion Matrix:\\n{cm}\\n\\n\")\n",
    "\n",
    "print(\"Revisa las carpetas dentro de 'ANN_combined_performance' para ver el desempeño del modelo.\")"
   ]
  },
  {
   "cell_type": "markdown",
   "metadata": {},
   "source": [
    "### Entrenamiento incremental\n",
    "Vamos a configurar el modelo inicial"
   ]
  },
  {
   "cell_type": "code",
   "execution_count": 12,
   "metadata": {},
   "outputs": [],
   "source": [
    "# Configuración del modelo ANN\n",
    "def create_ann_model(input_dim):\n",
    "    model = Sequential()\n",
    "    model.add(Dense(64, input_dim=input_dim, activation='relu'))\n",
    "    model.add(Dense(32, activation='relu'))\n",
    "    model.add(Dense(1, activation='sigmoid'))\n",
    "    model.compile(optimizer='adam', loss='binary_crossentropy', metrics=['accuracy'])\n",
    "    return model"
   ]
  },
  {
   "cell_type": "markdown",
   "metadata": {},
   "source": [
    "Carpetas necesarias para tener los outputs generados del entrenamiento y validación"
   ]
  },
  {
   "cell_type": "code",
   "execution_count": 13,
   "metadata": {},
   "outputs": [],
   "source": [
    "# Configurar directorios\n",
    "folder_path = 'ANN_incremental_performance'\n",
    "roc_folder = os.path.join(folder_path, 'roc_curves')\n",
    "conf_matrix_folder = os.path.join(folder_path, 'conf_matrices')\n",
    "metrics_folder = os.path.join(folder_path, 'metrics_texts')\n",
    "\n",
    "# Asegurarse de que las carpetas estén limpias\n",
    "for path in [folder_path, roc_folder, conf_matrix_folder, metrics_folder]:\n",
    "    if os.path.exists(path):\n",
    "        shutil.rmtree(path)\n",
    "    os.makedirs(path)"
   ]
  },
  {
   "cell_type": "code",
   "execution_count": 14,
   "metadata": {},
   "outputs": [
    {
     "name": "stdout",
     "output_type": "stream",
     "text": [
      "Entrenando con datos de: 2019-01-01 00:00:00\n",
      "Epoch 1/5\n",
      "757/757 [==============================] - 2s 2ms/step - loss: 0.1144 - accuracy: 0.9607\n",
      "Epoch 2/5\n",
      "757/757 [==============================] - 1s 1ms/step - loss: 0.0353 - accuracy: 0.9897\n",
      "Epoch 3/5\n",
      "757/757 [==============================] - 1s 1ms/step - loss: 0.0200 - accuracy: 0.9941\n",
      "Epoch 4/5\n",
      "757/757 [==============================] - 1s 1ms/step - loss: 0.0136 - accuracy: 0.9962\n",
      "Epoch 5/5\n",
      "757/757 [==============================] - 1s 1ms/step - loss: 0.0099 - accuracy: 0.9970\n",
      "649/649 [==============================] - 1s 1ms/step\n",
      "Entrenando con datos de: 2019-02-01 00:00:00\n",
      "Epoch 1/5\n",
      "718/718 [==============================] - 1s 2ms/step - loss: 0.0301 - accuracy: 0.9911\n",
      "Epoch 2/5\n",
      "718/718 [==============================] - 1s 1ms/step - loss: 0.0102 - accuracy: 0.9971\n",
      "Epoch 3/5\n",
      "718/718 [==============================] - 1s 1ms/step - loss: 0.0071 - accuracy: 0.9982\n",
      "Epoch 4/5\n",
      "718/718 [==============================] - 1s 1ms/step - loss: 0.0057 - accuracy: 0.9985\n",
      "Epoch 5/5\n",
      "718/718 [==============================] - 1s 1ms/step - loss: 0.0043 - accuracy: 0.9989\n",
      "616/616 [==============================] - 1s 931us/step\n",
      "Entrenando con datos de: 2019-03-01 00:00:00\n",
      "Epoch 1/5\n",
      "1025/1025 [==============================] - 2s 2ms/step - loss: 0.0303 - accuracy: 0.9908\n",
      "Epoch 2/5\n",
      "1025/1025 [==============================] - 2s 2ms/step - loss: 0.0135 - accuracy: 0.9956\n",
      "Epoch 3/5\n",
      "1025/1025 [==============================] - 2s 2ms/step - loss: 0.0092 - accuracy: 0.9970\n",
      "Epoch 4/5\n",
      "1025/1025 [==============================] - 2s 2ms/step - loss: 0.0068 - accuracy: 0.9980\n",
      "Epoch 5/5\n",
      "1025/1025 [==============================] - 2s 2ms/step - loss: 0.0052 - accuracy: 0.9984\n",
      "879/879 [==============================] - 1s 1ms/step\n",
      "Entrenando con datos de: 2019-04-01 00:00:00\n",
      "Epoch 1/5\n",
      "985/985 [==============================] - 2s 2ms/step - loss: 0.0653 - accuracy: 0.9794\n",
      "Epoch 2/5\n",
      "985/985 [==============================] - 1s 1ms/step - loss: 0.0145 - accuracy: 0.9957\n",
      "Epoch 3/5\n",
      "985/985 [==============================] - 2s 2ms/step - loss: 0.0079 - accuracy: 0.9979\n",
      "Epoch 4/5\n",
      "985/985 [==============================] - 2s 2ms/step - loss: 0.0055 - accuracy: 0.9985\n",
      "Epoch 5/5\n",
      "985/985 [==============================] - 1s 1ms/step - loss: 0.0043 - accuracy: 0.9989\n",
      "845/845 [==============================] - 1s 1ms/step\n",
      "Entrenando con datos de: 2019-05-01 00:00:00\n",
      "Epoch 1/5\n",
      "1050/1050 [==============================] - 2s 1ms/step - loss: 0.0264 - accuracy: 0.9919\n",
      "Epoch 2/5\n",
      "1050/1050 [==============================] - 2s 1ms/step - loss: 0.0095 - accuracy: 0.9973\n",
      "Epoch 3/5\n",
      "1050/1050 [==============================] - 2s 1ms/step - loss: 0.0062 - accuracy: 0.9984\n",
      "Epoch 4/5\n",
      "1050/1050 [==============================] - 2s 2ms/step - loss: 0.0048 - accuracy: 0.9986\n",
      "Epoch 5/5\n",
      "1050/1050 [==============================] - 1s 1ms/step - loss: 0.0034 - accuracy: 0.9989\n",
      "900/900 [==============================] - 1s 1ms/step\n",
      "Entrenando con datos de: 2019-06-01 00:00:00\n",
      "Epoch 1/5\n",
      "1247/1247 [==============================] - 2s 2ms/step - loss: 0.0233 - accuracy: 0.9930\n",
      "Epoch 2/5\n",
      "1247/1247 [==============================] - 2s 1ms/step - loss: 0.0065 - accuracy: 0.9982\n",
      "Epoch 3/5\n",
      "1247/1247 [==============================] - 2s 2ms/step - loss: 0.0043 - accuracy: 0.9989\n",
      "Epoch 4/5\n",
      "1247/1247 [==============================] - 2s 2ms/step - loss: 0.0034 - accuracy: 0.9990\n",
      "Epoch 5/5\n",
      "1247/1247 [==============================] - 2s 1ms/step - loss: 0.0023 - accuracy: 0.9994\n",
      "1069/1069 [==============================] - 1s 1ms/step\n",
      "Entrenando con datos de: 2019-07-01 00:00:00\n",
      "Epoch 1/5\n",
      "1255/1255 [==============================] - 2s 1ms/step - loss: 0.0762 - accuracy: 0.9728\n",
      "Epoch 2/5\n",
      "1255/1255 [==============================] - 2s 1ms/step - loss: 0.0152 - accuracy: 0.9959\n",
      "Epoch 3/5\n",
      "1255/1255 [==============================] - 2s 1ms/step - loss: 0.0075 - accuracy: 0.9982\n",
      "Epoch 4/5\n",
      "1255/1255 [==============================] - 2s 1ms/step - loss: 0.0047 - accuracy: 0.9987\n",
      "Epoch 5/5\n",
      "1255/1255 [==============================] - 2s 1ms/step - loss: 0.0040 - accuracy: 0.9988\n",
      "1076/1076 [==============================] - 1s 906us/step\n",
      "Entrenando con datos de: 2019-08-01 00:00:00\n",
      "Epoch 1/5\n",
      "1266/1266 [==============================] - 2s 1ms/step - loss: 0.0300 - accuracy: 0.9922\n",
      "Epoch 2/5\n",
      "1266/1266 [==============================] - 2s 1ms/step - loss: 0.0082 - accuracy: 0.9977\n",
      "Epoch 3/5\n",
      "1266/1266 [==============================] - 2s 1ms/step - loss: 0.0052 - accuracy: 0.9986\n",
      "Epoch 4/5\n",
      "1266/1266 [==============================] - 2s 1ms/step - loss: 0.0041 - accuracy: 0.9988\n",
      "Epoch 5/5\n",
      "1266/1266 [==============================] - 2s 1ms/step - loss: 0.0026 - accuracy: 0.9993\n",
      "1085/1085 [==============================] - 1s 941us/step\n",
      "Entrenando con datos de: 2019-09-01 00:00:00\n",
      "Epoch 1/5\n",
      "1022/1022 [==============================] - 2s 2ms/step - loss: 0.0322 - accuracy: 0.9905\n",
      "Epoch 2/5\n",
      "1022/1022 [==============================] - 2s 1ms/step - loss: 0.0112 - accuracy: 0.9965\n",
      "Epoch 3/5\n",
      "1022/1022 [==============================] - 1s 1ms/step - loss: 0.0078 - accuracy: 0.9979\n",
      "Epoch 4/5\n",
      "1022/1022 [==============================] - 1s 1ms/step - loss: 0.0054 - accuracy: 0.9985\n",
      "Epoch 5/5\n",
      "1022/1022 [==============================] - 1s 1ms/step - loss: 0.0043 - accuracy: 0.9988\n",
      "876/876 [==============================] - 1s 981us/step\n",
      "Entrenando con datos de: 2019-10-01 00:00:00\n",
      "Epoch 1/5\n",
      "994/994 [==============================] - 2s 1ms/step - loss: 0.0666 - accuracy: 0.9783\n",
      "Epoch 2/5\n",
      "994/994 [==============================] - 2s 2ms/step - loss: 0.0173 - accuracy: 0.9946\n",
      "Epoch 3/5\n",
      "994/994 [==============================] - 1s 1ms/step - loss: 0.0099 - accuracy: 0.9972\n",
      "Epoch 4/5\n",
      "994/994 [==============================] - 1s 1ms/step - loss: 0.0073 - accuracy: 0.9979\n",
      "Epoch 5/5\n",
      "994/994 [==============================] - 1s 1ms/step - loss: 0.0055 - accuracy: 0.9983\n",
      "852/852 [==============================] - 1s 912us/step\n",
      "Entrenando con datos de: 2019-11-01 00:00:00\n",
      "Epoch 1/5\n",
      "1019/1019 [==============================] - 1s 1ms/step - loss: 0.0323 - accuracy: 0.9907\n",
      "Epoch 2/5\n",
      "1019/1019 [==============================] - 1s 1ms/step - loss: 0.0100 - accuracy: 0.9970\n",
      "Epoch 3/5\n",
      "1019/1019 [==============================] - 1s 1ms/step - loss: 0.0068 - accuracy: 0.9983\n",
      "Epoch 4/5\n",
      "1019/1019 [==============================] - 1s 1ms/step - loss: 0.0042 - accuracy: 0.9988\n",
      "Epoch 5/5\n",
      "1019/1019 [==============================] - 2s 1ms/step - loss: 0.0029 - accuracy: 0.9992\n",
      "874/874 [==============================] - 1s 1ms/step\n",
      "Entrenando con datos de: 2019-12-01 00:00:00\n",
      "Epoch 1/5\n",
      "2044/2044 [==============================] - 3s 2ms/step - loss: 0.0205 - accuracy: 0.9935\n",
      "Epoch 2/5\n",
      "2044/2044 [==============================] - 3s 1ms/step - loss: 0.0074 - accuracy: 0.9977\n",
      "Epoch 3/5\n",
      "2044/2044 [==============================] - 3s 2ms/step - loss: 0.0051 - accuracy: 0.9986\n",
      "Epoch 4/5\n",
      "2044/2044 [==============================] - 3s 2ms/step - loss: 0.0038 - accuracy: 0.9989\n",
      "Epoch 5/5\n",
      "2044/2044 [==============================] - 3s 2ms/step - loss: 0.0033 - accuracy: 0.9990\n",
      "1752/1752 [==============================] - 2s 1ms/step\n",
      "Entrenando con datos de: 2020-01-01 00:00:00\n",
      "Epoch 1/5\n",
      "755/755 [==============================] - 2s 2ms/step - loss: 0.0868 - accuracy: 0.9690\n",
      "Epoch 2/5\n",
      "755/755 [==============================] - 1s 1ms/step - loss: 0.0196 - accuracy: 0.9945\n",
      "Epoch 3/5\n",
      "755/755 [==============================] - 1s 2ms/step - loss: 0.0107 - accuracy: 0.9973\n",
      "Epoch 4/5\n",
      "755/755 [==============================] - 1s 1ms/step - loss: 0.0063 - accuracy: 0.9984\n",
      "Epoch 5/5\n",
      "755/755 [==============================] - 1s 2ms/step - loss: 0.0044 - accuracy: 0.9990\n",
      "647/647 [==============================] - 1s 1000us/step\n",
      "Entrenando con datos de: 2020-02-01 00:00:00\n",
      "Epoch 1/5\n",
      "691/691 [==============================] - 1s 2ms/step - loss: 0.0183 - accuracy: 0.9946\n",
      "Epoch 2/5\n",
      "691/691 [==============================] - 1s 2ms/step - loss: 0.0061 - accuracy: 0.9981\n",
      "Epoch 3/5\n",
      "691/691 [==============================] - 1s 2ms/step - loss: 0.0042 - accuracy: 0.9989\n",
      "Epoch 4/5\n",
      "691/691 [==============================] - 1s 1ms/step - loss: 0.0033 - accuracy: 0.9992\n",
      "Epoch 5/5\n",
      "691/691 [==============================] - 1s 2ms/step - loss: 0.0020 - accuracy: 0.9995\n",
      "592/592 [==============================] - 1s 1ms/step\n",
      "Entrenando con datos de: 2020-03-01 00:00:00\n",
      "Epoch 1/5\n",
      "1054/1054 [==============================] - 2s 2ms/step - loss: 0.0242 - accuracy: 0.9927\n",
      "Epoch 2/5\n",
      "1054/1054 [==============================] - 2s 2ms/step - loss: 0.0085 - accuracy: 0.9975\n",
      "Epoch 3/5\n",
      "1054/1054 [==============================] - 2s 2ms/step - loss: 0.0061 - accuracy: 0.9983\n",
      "Epoch 4/5\n",
      "1054/1054 [==============================] - 2s 2ms/step - loss: 0.0045 - accuracy: 0.9987\n",
      "Epoch 5/5\n",
      "1054/1054 [==============================] - 2s 1ms/step - loss: 0.0033 - accuracy: 0.9991\n",
      "903/903 [==============================] - 1s 1ms/step\n",
      "Entrenando con datos de: 2020-04-01 00:00:00\n",
      "Epoch 1/5\n",
      "969/969 [==============================] - 2s 1ms/step - loss: 0.0689 - accuracy: 0.9785\n",
      "Epoch 2/5\n",
      "969/969 [==============================] - 1s 1ms/step - loss: 0.0154 - accuracy: 0.9959\n",
      "Epoch 3/5\n",
      "969/969 [==============================] - 1s 1ms/step - loss: 0.0080 - accuracy: 0.9979\n",
      "Epoch 4/5\n",
      "969/969 [==============================] - 1s 1ms/step - loss: 0.0050 - accuracy: 0.9988\n",
      "Epoch 5/5\n",
      "969/969 [==============================] - 1s 1ms/step - loss: 0.0038 - accuracy: 0.9990\n",
      "831/831 [==============================] - 1s 899us/step\n",
      "Entrenando con datos de: 2020-05-01 00:00:00\n",
      "Epoch 1/5\n",
      "1074/1074 [==============================] - 2s 2ms/step - loss: 0.0242 - accuracy: 0.9928\n",
      "Epoch 2/5\n",
      "1074/1074 [==============================] - 1s 1ms/step - loss: 0.0087 - accuracy: 0.9975\n",
      "Epoch 3/5\n",
      "1074/1074 [==============================] - 1s 1ms/step - loss: 0.0065 - accuracy: 0.9980\n",
      "Epoch 4/5\n",
      "1074/1074 [==============================] - 2s 1ms/step - loss: 0.0048 - accuracy: 0.9986\n",
      "Epoch 5/5\n",
      "1074/1074 [==============================] - 1s 1ms/step - loss: 0.0036 - accuracy: 0.9991\n",
      "921/921 [==============================] - 1s 921us/step\n",
      "Entrenando con datos de: 2020-06-01 00:00:00\n",
      "Epoch 1/5\n",
      "1271/1271 [==============================] - 2s 2ms/step - loss: 0.0199 - accuracy: 0.9935\n",
      "Epoch 2/5\n",
      "1271/1271 [==============================] - 2s 2ms/step - loss: 0.0074 - accuracy: 0.9978\n",
      "Epoch 3/5\n",
      "1271/1271 [==============================] - 2s 1ms/step - loss: 0.0046 - accuracy: 0.9987\n",
      "Epoch 4/5\n",
      "1271/1271 [==============================] - 2s 1ms/step - loss: 0.0038 - accuracy: 0.9989\n",
      "Epoch 5/5\n",
      "1271/1271 [==============================] - 2s 1ms/step - loss: 0.0027 - accuracy: 0.9992\n",
      "1089/1089 [==============================] - 1s 959us/step\n",
      "Entrenando con datos de: 2020-07-01 00:00:00\n",
      "Epoch 1/5\n",
      "1245/1245 [==============================] - 2s 1ms/step - loss: 0.0824 - accuracy: 0.9729\n",
      "Epoch 2/5\n",
      "1245/1245 [==============================] - 2s 1ms/step - loss: 0.0175 - accuracy: 0.9953\n",
      "Epoch 3/5\n",
      "1245/1245 [==============================] - 2s 1ms/step - loss: 0.0096 - accuracy: 0.9975\n",
      "Epoch 4/5\n",
      "1245/1245 [==============================] - 2s 1ms/step - loss: 0.0059 - accuracy: 0.9985\n",
      "Epoch 5/5\n",
      "1245/1245 [==============================] - 2s 1ms/step - loss: 0.0045 - accuracy: 0.9988\n",
      "1067/1067 [==============================] - 1s 1ms/step\n",
      "Entrenando con datos de: 2020-08-01 00:00:00\n",
      "Epoch 1/5\n",
      "1286/1286 [==============================] - 2s 2ms/step - loss: 0.0259 - accuracy: 0.9927\n",
      "Epoch 2/5\n",
      "1286/1286 [==============================] - 2s 2ms/step - loss: 0.0083 - accuracy: 0.9976\n",
      "Epoch 3/5\n",
      "1286/1286 [==============================] - 2s 2ms/step - loss: 0.0054 - accuracy: 0.9985\n",
      "Epoch 4/5\n",
      "1286/1286 [==============================] - 2s 2ms/step - loss: 0.0037 - accuracy: 0.9990\n",
      "Epoch 5/5\n",
      "1286/1286 [==============================] - 2s 2ms/step - loss: 0.0033 - accuracy: 0.9991\n",
      "1102/1102 [==============================] - 1s 998us/step\n"
     ]
    },
    {
     "name": "stderr",
     "output_type": "stream",
     "text": [
      "C:\\Users\\marco\\AppData\\Roaming\\Python\\Python310\\site-packages\\sklearn\\metrics\\_plot\\confusion_matrix.py:136: RuntimeWarning: More than 20 figures have been opened. Figures created through the pyplot interface (`matplotlib.pyplot.figure`) are retained until explicitly closed and may consume too much memory. (To control this warning, see the rcParam `figure.max_open_warning`). Consider using `matplotlib.pyplot.close()`.\n",
      "  fig, ax = plt.subplots()\n"
     ]
    },
    {
     "name": "stdout",
     "output_type": "stream",
     "text": [
      "Entrenando con datos de: 2020-09-01 00:00:00\n",
      "Epoch 1/5\n",
      "1007/1007 [==============================] - 2s 2ms/step - loss: 0.0163 - accuracy: 0.9951\n",
      "Epoch 2/5\n",
      "1007/1007 [==============================] - 2s 2ms/step - loss: 0.0045 - accuracy: 0.9986\n",
      "Epoch 3/5\n",
      "1007/1007 [==============================] - 2s 2ms/step - loss: 0.0027 - accuracy: 0.9992\n",
      "Epoch 4/5\n",
      "1007/1007 [==============================] - 2s 2ms/step - loss: 0.0021 - accuracy: 0.9994\n",
      "Epoch 5/5\n",
      "1007/1007 [==============================] - 1s 1ms/step - loss: 0.0013 - accuracy: 0.9996\n",
      "863/863 [==============================] - 1s 984us/step\n"
     ]
    },
    {
     "name": "stderr",
     "output_type": "stream",
     "text": [
      "C:\\Users\\marco\\AppData\\Local\\Temp\\ipykernel_40116\\1990006100.py:42: RuntimeWarning: More than 20 figures have been opened. Figures created through the pyplot interface (`matplotlib.pyplot.figure`) are retained until explicitly closed and may consume too much memory. (To control this warning, see the rcParam `figure.max_open_warning`). Consider using `matplotlib.pyplot.close()`.\n",
      "  plt.figure(figsize=(10, 5))\n",
      "C:\\Users\\marco\\AppData\\Local\\Temp\\ipykernel_40116\\1990006100.py:55: RuntimeWarning: More than 20 figures have been opened. Figures created through the pyplot interface (`matplotlib.pyplot.figure`) are retained until explicitly closed and may consume too much memory. (To control this warning, see the rcParam `figure.max_open_warning`). Consider using `matplotlib.pyplot.close()`.\n",
      "  plt.figure(figsize=(6, 5))\n"
     ]
    },
    {
     "name": "stdout",
     "output_type": "stream",
     "text": [
      "Entrenando con datos de: 2020-10-01 00:00:00\n",
      "Epoch 1/5\n",
      "1004/1004 [==============================] - 2s 2ms/step - loss: 0.0679 - accuracy: 0.9791\n",
      "Epoch 2/5\n",
      "1004/1004 [==============================] - 2s 2ms/step - loss: 0.0163 - accuracy: 0.9951\n",
      "Epoch 3/5\n",
      "1004/1004 [==============================] - 2s 2ms/step - loss: 0.0088 - accuracy: 0.9973\n",
      "Epoch 4/5\n",
      "1004/1004 [==============================] - 2s 2ms/step - loss: 0.0054 - accuracy: 0.9986\n",
      "Epoch 5/5\n",
      "1004/1004 [==============================] - 1s 1ms/step - loss: 0.0039 - accuracy: 0.9990\n",
      "860/860 [==============================] - 1s 1ms/step\n",
      "Entrenando con datos de: 2020-11-01 00:00:00\n",
      "Epoch 1/5\n",
      "1053/1053 [==============================] - 2s 2ms/step - loss: 0.0225 - accuracy: 0.9942\n",
      "Epoch 2/5\n",
      "1053/1053 [==============================] - 2s 2ms/step - loss: 0.0059 - accuracy: 0.9984\n",
      "Epoch 3/5\n",
      "1053/1053 [==============================] - 1s 1ms/step - loss: 0.0035 - accuracy: 0.9992\n",
      "Epoch 4/5\n",
      "1053/1053 [==============================] - 2s 1ms/step - loss: 0.0025 - accuracy: 0.9994\n",
      "Epoch 5/5\n",
      "1053/1053 [==============================] - 2s 1ms/step - loss: 0.0021 - accuracy: 0.9994\n",
      "902/902 [==============================] - 1s 998us/step\n",
      "Entrenando con datos de: 2020-12-01 00:00:00\n",
      "Epoch 1/5\n",
      "2027/2027 [==============================] - 3s 1ms/step - loss: 0.0145 - accuracy: 0.9959\n",
      "Epoch 2/5\n",
      "2027/2027 [==============================] - 3s 1ms/step - loss: 0.0034 - accuracy: 0.9991\n",
      "Epoch 3/5\n",
      "2027/2027 [==============================] - 3s 1ms/step - loss: 0.0020 - accuracy: 0.9994\n",
      "Epoch 4/5\n",
      "2027/2027 [==============================] - 3s 1ms/step - loss: 0.0016 - accuracy: 0.9995\n",
      "Epoch 5/5\n",
      "2027/2027 [==============================] - 3s 1ms/step - loss: 0.0013 - accuracy: 0.9996\n",
      "1737/1737 [==============================] - 2s 945us/step\n",
      "Revisa las carpetas dentro de 'ANN_incremental_performance' para ver el desempeño de los modelos.\n"
     ]
    },
    {
     "data": {
      "text/plain": [
       "<Figure size 600x500 with 0 Axes>"
      ]
     },
     "metadata": {},
     "output_type": "display_data"
    },
    {
     "data": {
      "text/plain": [
       "<Figure size 600x500 with 0 Axes>"
      ]
     },
     "metadata": {},
     "output_type": "display_data"
    },
    {
     "data": {
      "text/plain": [
       "<Figure size 600x500 with 0 Axes>"
      ]
     },
     "metadata": {},
     "output_type": "display_data"
    },
    {
     "data": {
      "text/plain": [
       "<Figure size 600x500 with 0 Axes>"
      ]
     },
     "metadata": {},
     "output_type": "display_data"
    },
    {
     "data": {
      "text/plain": [
       "<Figure size 600x500 with 0 Axes>"
      ]
     },
     "metadata": {},
     "output_type": "display_data"
    },
    {
     "data": {
      "text/plain": [
       "<Figure size 600x500 with 0 Axes>"
      ]
     },
     "metadata": {},
     "output_type": "display_data"
    },
    {
     "data": {
      "text/plain": [
       "<Figure size 600x500 with 0 Axes>"
      ]
     },
     "metadata": {},
     "output_type": "display_data"
    },
    {
     "data": {
      "text/plain": [
       "<Figure size 600x500 with 0 Axes>"
      ]
     },
     "metadata": {},
     "output_type": "display_data"
    },
    {
     "data": {
      "text/plain": [
       "<Figure size 600x500 with 0 Axes>"
      ]
     },
     "metadata": {},
     "output_type": "display_data"
    },
    {
     "data": {
      "text/plain": [
       "<Figure size 600x500 with 0 Axes>"
      ]
     },
     "metadata": {},
     "output_type": "display_data"
    },
    {
     "data": {
      "text/plain": [
       "<Figure size 600x500 with 0 Axes>"
      ]
     },
     "metadata": {},
     "output_type": "display_data"
    },
    {
     "data": {
      "text/plain": [
       "<Figure size 600x500 with 0 Axes>"
      ]
     },
     "metadata": {},
     "output_type": "display_data"
    },
    {
     "data": {
      "text/plain": [
       "<Figure size 600x500 with 0 Axes>"
      ]
     },
     "metadata": {},
     "output_type": "display_data"
    },
    {
     "data": {
      "text/plain": [
       "<Figure size 600x500 with 0 Axes>"
      ]
     },
     "metadata": {},
     "output_type": "display_data"
    },
    {
     "data": {
      "text/plain": [
       "<Figure size 600x500 with 0 Axes>"
      ]
     },
     "metadata": {},
     "output_type": "display_data"
    },
    {
     "data": {
      "text/plain": [
       "<Figure size 600x500 with 0 Axes>"
      ]
     },
     "metadata": {},
     "output_type": "display_data"
    },
    {
     "data": {
      "text/plain": [
       "<Figure size 600x500 with 0 Axes>"
      ]
     },
     "metadata": {},
     "output_type": "display_data"
    },
    {
     "data": {
      "text/plain": [
       "<Figure size 600x500 with 0 Axes>"
      ]
     },
     "metadata": {},
     "output_type": "display_data"
    },
    {
     "data": {
      "text/plain": [
       "<Figure size 600x500 with 0 Axes>"
      ]
     },
     "metadata": {},
     "output_type": "display_data"
    },
    {
     "data": {
      "text/plain": [
       "<Figure size 600x500 with 0 Axes>"
      ]
     },
     "metadata": {},
     "output_type": "display_data"
    },
    {
     "data": {
      "text/plain": [
       "<Figure size 600x500 with 0 Axes>"
      ]
     },
     "metadata": {},
     "output_type": "display_data"
    },
    {
     "data": {
      "text/plain": [
       "<Figure size 600x500 with 0 Axes>"
      ]
     },
     "metadata": {},
     "output_type": "display_data"
    },
    {
     "data": {
      "text/plain": [
       "<Figure size 600x500 with 0 Axes>"
      ]
     },
     "metadata": {},
     "output_type": "display_data"
    },
    {
     "data": {
      "text/plain": [
       "<Figure size 600x500 with 0 Axes>"
      ]
     },
     "metadata": {},
     "output_type": "display_data"
    }
   ],
   "source": [
    "metrics_file_path = os.path.join(metrics_folder, 'model_metrics.txt')\n",
    "with open(metrics_file_path, 'w') as metrics_file:\n",
    "    month_count = 0  # Contador para el reentrenamiento\n",
    "\n",
    "    # Iterar sobre cada segmento mensual\n",
    "    for name, month_data in monthly_datasets.items():\n",
    "        print(f\"Entrenando con datos de: {name}\")\n",
    "\n",
    "        # Dividir los datos en entrenamiento y validación\n",
    "        X = month_data.drop(['is_fraud'], axis=1)\n",
    "        y = month_data['is_fraud']\n",
    "        X_train_month, X_val_month, y_train_month, y_val_month = train_test_split(\n",
    "            X, y, test_size=0.3, random_state=42)\n",
    "\n",
    "        # Escalar los datos\n",
    "        scaler = StandardScaler()\n",
    "        X_train_month = scaler.fit_transform(X_train_month)\n",
    "        X_val_month = scaler.transform(X_val_month)\n",
    "\n",
    "        # Reestablecer el modelo cada 3 meses\n",
    "        if month_count % 3 == 0:\n",
    "            model = create_ann_model(X_train_month.shape[1])\n",
    "\n",
    "        # Entrenamiento con validación\n",
    "        model.fit(X_train_month, y_train_month, epochs=5, batch_size=64, verbose=1)\n",
    "\n",
    "        # Incrementar el contador de meses\n",
    "        month_count += 1\n",
    "\n",
    "        # Calcular métricas\n",
    "        y_pred = model.predict(X_val_month)\n",
    "        y_pred_binary = (y_pred >= 0.5).astype(int)\n",
    "        f1 = f1_score(y_val_month, y_pred_binary)\n",
    "        accuracy = accuracy_score(y_val_month, y_pred_binary)\n",
    "        precision = precision_score(y_val_month, y_pred_binary)\n",
    "        recall = recall_score(y_val_month, y_pred_binary)\n",
    "        cm = confusion_matrix(y_val_month, y_pred_binary)\n",
    "\n",
    "        # Graficar ROC\n",
    "        fpr, tpr, _ = roc_curve(y_val_month, y_pred)\n",
    "        roc_auc = auc(fpr, tpr)\n",
    "        plt.figure(figsize=(10, 5))\n",
    "        plt.plot(fpr, tpr, color='darkorange', lw=2, label=f'ROC curve (area = {roc_auc:.2f})')\n",
    "        plt.plot([0, 1], [0, 1], color='navy', lw=2, linestyle='--')\n",
    "        plt.xlim([0.0, 1.0])\n",
    "        plt.ylim([0.0, 1.05])\n",
    "        plt.xlabel('False Positive Rate')\n",
    "        plt.ylabel('True Positive Rate')\n",
    "        plt.title(f'ROC Curve for {name.strftime(\"%B %Y\")}')\n",
    "        plt.legend(loc=\"lower right\")\n",
    "        plt.savefig(os.path.join(roc_folder, f'roc_curve_{name.strftime(\"%Y_%m\")}.png'))\n",
    "        plt.close()\n",
    "\n",
    "        # Graficar matriz de confusión\n",
    "        plt.figure(figsize=(6, 5))\n",
    "        disp = ConfusionMatrixDisplay(confusion_matrix=cm)\n",
    "        disp.plot(cmap=plt.cm.Blues)\n",
    "        plt.title(f'Confusion Matrix for {name.strftime(\"%B %Y\")}')\n",
    "        plt.savefig(os.path.join(conf_matrix_folder, f'conf_matrix_{name.strftime(\"%Y_%m\")}.png'))\n",
    "        plt.close()\n",
    "\n",
    "        # Escribir métricas en el archivo\n",
    "        metrics_file.write(f\"Metrics for {name.strftime('%B %Y')}:\\n\")\n",
    "        metrics_file.write(f\"F1 Score: {f1:.2f}\\n\")\n",
    "        metrics_file.write(f\"Accuracy: {accuracy:.2f}\\n\")\n",
    "        metrics_file.write(f\"Precision: {precision:.2f}\\n\")\n",
    "        metrics_file.write(f\"Recall: {recall:.2f}\\n\")\n",
    "        metrics_file.write(f\"Confusion Matrix:\\n{cm}\\n\\n\")\n",
    "\n",
    "print(\"Revisa las carpetas dentro de 'ANN_incremental_performance' para ver el desempeño de los modelos.\")"
   ]
  },
  {
   "cell_type": "markdown",
   "metadata": {},
   "source": [
    "En este caso hemos notado una diferencia en el tiempo de ejecución siendo de casi 8 minutos para el secuencial normal y de casi 5 minutos para el incremental. Sin embargo la efectividad del modelo no se ve afectada por lo que podemos decir entonces que en este caso es mejor el uso de entrenamiento incremental aún cuando querramos agregar nuevos datos de un nuevo mes."
   ]
  }
 ],
 "metadata": {
  "kernelspec": {
   "display_name": "Python 3",
   "language": "python",
   "name": "python3"
  },
  "language_info": {
   "codemirror_mode": {
    "name": "ipython",
    "version": 3
   },
   "file_extension": ".py",
   "mimetype": "text/x-python",
   "name": "python",
   "nbconvert_exporter": "python",
   "pygments_lexer": "ipython3",
   "version": "3.10.5"
  }
 },
 "nbformat": 4,
 "nbformat_minor": 2
}
