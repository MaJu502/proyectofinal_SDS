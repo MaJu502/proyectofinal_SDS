{
 "cells": [
  {
   "cell_type": "markdown",
   "metadata": {},
   "source": [
    "# Análisis de Transacciones Fraudulentas con ANN\n",
    "\n",
    "- Marco Antonio Jurado carnet 20308\n",
    "#### Fecha: 24/5/2024\n",
    "\n",
    "### Resumen\n",
    "Este proyecto tiene como objetivo la detección de transacciones fraudulentas utilizando el modelo de Machine Learning ANN. El análisis incluye:\n",
    "\n",
    "- Entrenamiento del modelo\n",
    "- Evaluación del modelo\n",
    "- Visualización de resultados\n",
    "\n",
    "### Contenido\n",
    "1. Entrenamiento del Modelo\n",
    "2. Evaluación del Modelo\n",
    "3. Conclusiones y Trabajo Futuro"
   ]
  },
  {
   "cell_type": "code",
   "execution_count": 16,
   "metadata": {},
   "outputs": [],
   "source": [
    "#!pip install lightgbm\n",
    "#!pip install --upgrade lightgbm\n",
    "#!pip install category_encoders\n",
    "#!pip install geopy"
   ]
  },
  {
   "cell_type": "code",
   "execution_count": 17,
   "metadata": {},
   "outputs": [],
   "source": [
    "import numpy as np\n",
    "import pandas as pd\n",
    "import tensorflow as tf\n",
    "from tensorflow.keras.models import Sequential\n",
    "from tensorflow.keras.layers import Dense\n",
    "from sklearn.model_selection import train_test_split\n",
    "from sklearn.preprocessing import StandardScaler\n",
    "from sklearn.metrics import f1_score, accuracy_score, precision_score, recall_score, confusion_matrix, roc_curve, auc, ConfusionMatrixDisplay\n",
    "import matplotlib.pyplot as plt\n",
    "import os\n",
    "import shutil"
   ]
  },
  {
   "cell_type": "markdown",
   "metadata": {},
   "source": [
    "Abrimos los datasets de cada mes que ya hemos balanceado"
   ]
  },
  {
   "cell_type": "code",
   "execution_count": 18,
   "metadata": {},
   "outputs": [],
   "source": [
    "input_dir = 'final_datasets'"
   ]
  },
  {
   "cell_type": "markdown",
   "metadata": {},
   "source": [
    "En este caso vamos a cargar los set de datos individuales de cada mes que hemos generado en previos pasos"
   ]
  },
  {
   "cell_type": "code",
   "execution_count": 19,
   "metadata": {},
   "outputs": [
    {
     "name": "stdout",
     "output_type": "stream",
     "text": [
      "Dataset para 2019-01 cargado desde: final_datasets\\resampled_data_2019_01.csv\n",
      "Dataset para 2019-02 cargado desde: final_datasets\\resampled_data_2019_02.csv\n",
      "Dataset para 2019-03 cargado desde: final_datasets\\resampled_data_2019_03.csv\n",
      "Dataset para 2019-04 cargado desde: final_datasets\\resampled_data_2019_04.csv\n",
      "Dataset para 2019-05 cargado desde: final_datasets\\resampled_data_2019_05.csv\n",
      "Dataset para 2019-06 cargado desde: final_datasets\\resampled_data_2019_06.csv\n",
      "Dataset para 2019-07 cargado desde: final_datasets\\resampled_data_2019_07.csv\n",
      "Dataset para 2019-08 cargado desde: final_datasets\\resampled_data_2019_08.csv\n",
      "Dataset para 2019-09 cargado desde: final_datasets\\resampled_data_2019_09.csv\n",
      "Dataset para 2019-10 cargado desde: final_datasets\\resampled_data_2019_10.csv\n",
      "Dataset para 2019-11 cargado desde: final_datasets\\resampled_data_2019_11.csv\n",
      "Dataset para 2019-12 cargado desde: final_datasets\\resampled_data_2019_12.csv\n",
      "Dataset para 2020-01 cargado desde: final_datasets\\resampled_data_2020_01.csv\n",
      "Dataset para 2020-02 cargado desde: final_datasets\\resampled_data_2020_02.csv\n",
      "Dataset para 2020-03 cargado desde: final_datasets\\resampled_data_2020_03.csv\n",
      "Dataset para 2020-04 cargado desde: final_datasets\\resampled_data_2020_04.csv\n",
      "Dataset para 2020-05 cargado desde: final_datasets\\resampled_data_2020_05.csv\n",
      "Dataset para 2020-06 cargado desde: final_datasets\\resampled_data_2020_06.csv\n",
      "Dataset para 2020-07 cargado desde: final_datasets\\resampled_data_2020_07.csv\n",
      "Dataset para 2020-08 cargado desde: final_datasets\\resampled_data_2020_08.csv\n",
      "Dataset para 2020-09 cargado desde: final_datasets\\resampled_data_2020_09.csv\n",
      "Dataset para 2020-10 cargado desde: final_datasets\\resampled_data_2020_10.csv\n",
      "Dataset para 2020-11 cargado desde: final_datasets\\resampled_data_2020_11.csv\n",
      "Dataset para 2020-12 cargado desde: final_datasets\\resampled_data_2020_12.csv\n"
     ]
    }
   ],
   "source": [
    "# Diccionario para almacenar los datasets\n",
    "monthly_datasets = {}\n",
    "\n",
    "# Listar todos los archivos en el directorio\n",
    "for file_name in os.listdir(input_dir):\n",
    "    if file_name.startswith('resampled_data_') and file_name.endswith('.csv'):\n",
    "        # Construir el path completo del archivo\n",
    "        file_path = os.path.join(input_dir, file_name)\n",
    "\n",
    "        # Extraer la fecha del nombre del archivo\n",
    "        date_str = file_name[len('resampled_data_'):-4]\n",
    "        month = pd.to_datetime(date_str, format='%Y_%m')\n",
    "\n",
    "        # Cargar el dataset\n",
    "        monthly_datasets[month] = pd.read_csv(file_path)\n",
    "        print(f\"Dataset para {month.strftime('%Y-%m')} cargado desde: {file_path}\")"
   ]
  },
  {
   "cell_type": "markdown",
   "metadata": {},
   "source": [
    "### Entrenamiento no incremental"
   ]
  },
  {
   "cell_type": "markdown",
   "metadata": {},
   "source": [
    "Vamos a configurar el modelo"
   ]
  },
  {
   "cell_type": "code",
   "execution_count": 20,
   "metadata": {},
   "outputs": [],
   "source": [
    "# Configuración del modelo ANN\n",
    "def create_ann_model(input_dim):\n",
    "    model = Sequential()\n",
    "    model.add(Dense(64, input_dim=input_dim, activation='relu'))\n",
    "    model.add(Dense(32, activation='relu'))\n",
    "    model.add(Dense(1, activation='sigmoid'))\n",
    "    model.compile(optimizer='adam', loss='binary_crossentropy', metrics=['accuracy'])\n",
    "    return model"
   ]
  },
  {
   "cell_type": "markdown",
   "metadata": {},
   "source": [
    "Vamos a combinar la data en un solo set para hacer el entrenamiento no incremental. Aqui tenemos que tener nuestras variables X y Y respectivamente para poder hacer el entrenamiento."
   ]
  },
  {
   "cell_type": "code",
   "execution_count": 21,
   "metadata": {},
   "outputs": [],
   "source": [
    "combined_data = pd.concat(monthly_datasets.values())\n",
    "X = combined_data.drop(['is_fraud'], axis=1)\n",
    "y = combined_data['is_fraud']\n",
    "X_train, X_val, y_train, y_val = train_test_split(X, y, test_size=0.3, random_state=42)"
   ]
  },
  {
   "cell_type": "markdown",
   "metadata": {},
   "source": [
    "Carpetas necesarias para los outputs"
   ]
  },
  {
   "cell_type": "code",
   "execution_count": 22,
   "metadata": {},
   "outputs": [],
   "source": [
    "folder_path = 'ANN_combined_performance'\n",
    "roc_folder = os.path.join(folder_path, 'roc_curves')\n",
    "conf_matrix_folder = os.path.join(folder_path, 'conf_matrices')\n",
    "metrics_folder = os.path.join(folder_path, 'metrics_texts')\n",
    "\n",
    "for path in [folder_path, roc_folder, conf_matrix_folder, metrics_folder]:\n",
    "    if os.path.exists(path):\n",
    "        shutil.rmtree(path)\n",
    "    os.makedirs(path)"
   ]
  },
  {
   "cell_type": "markdown",
   "metadata": {},
   "source": [
    "Entrenemos..."
   ]
  },
  {
   "cell_type": "code",
   "execution_count": 23,
   "metadata": {},
   "outputs": [
    {
     "name": "stdout",
     "output_type": "stream",
     "text": [
      "Epoch 1/10\n",
      "26807/26807 [==============================] - 82s 3ms/step - loss: 0.0545 - accuracy: 0.9806\n",
      "Epoch 2/10\n",
      "26807/26807 [==============================] - 81s 3ms/step - loss: 0.0336 - accuracy: 0.9882\n",
      "Epoch 3/10\n",
      "26807/26807 [==============================] - 97s 4ms/step - loss: 0.0274 - accuracy: 0.9903\n",
      "Epoch 4/10\n",
      "26807/26807 [==============================] - 80s 3ms/step - loss: 0.0239 - accuracy: 0.9916\n",
      "Epoch 5/10\n",
      "26807/26807 [==============================] - 68s 3ms/step - loss: 0.0213 - accuracy: 0.9926\n",
      "Epoch 6/10\n",
      "26807/26807 [==============================] - 98s 4ms/step - loss: 0.0192 - accuracy: 0.9934\n",
      "Epoch 7/10\n",
      "11157/26807 [===========>..................] - ETA: 39s - loss: 0.0183 - accuracy: 0.9937"
     ]
    },
    {
     "ename": "KeyboardInterrupt",
     "evalue": "",
     "output_type": "error",
     "traceback": [
      "\u001b[1;31m---------------------------------------------------------------------------\u001b[0m",
      "\u001b[1;31mKeyboardInterrupt\u001b[0m                         Traceback (most recent call last)",
      "Cell \u001b[1;32mIn[23], line 8\u001b[0m\n\u001b[0;32m      6\u001b[0m \u001b[38;5;66;03m# Crear y entrenar el modelo ANN\u001b[39;00m\n\u001b[0;32m      7\u001b[0m model \u001b[38;5;241m=\u001b[39m create_ann_model(X_train\u001b[38;5;241m.\u001b[39mshape[\u001b[38;5;241m1\u001b[39m])\n\u001b[1;32m----> 8\u001b[0m \u001b[43mmodel\u001b[49m\u001b[38;5;241;43m.\u001b[39;49m\u001b[43mfit\u001b[49m\u001b[43m(\u001b[49m\u001b[43mX_train\u001b[49m\u001b[43m,\u001b[49m\u001b[43m \u001b[49m\u001b[43my_train\u001b[49m\u001b[43m,\u001b[49m\u001b[43m \u001b[49m\u001b[43mepochs\u001b[49m\u001b[38;5;241;43m=\u001b[39;49m\u001b[38;5;241;43m10\u001b[39;49m\u001b[43m,\u001b[49m\u001b[43m \u001b[49m\u001b[43mbatch_size\u001b[49m\u001b[38;5;241;43m=\u001b[39;49m\u001b[38;5;241;43m64\u001b[39;49m\u001b[43m,\u001b[49m\u001b[43m \u001b[49m\u001b[43mverbose\u001b[49m\u001b[38;5;241;43m=\u001b[39;49m\u001b[38;5;241;43m1\u001b[39;49m\u001b[43m)\u001b[49m\n\u001b[0;32m     10\u001b[0m \u001b[38;5;66;03m# Calcular métricas\u001b[39;00m\n\u001b[0;32m     11\u001b[0m y_pred \u001b[38;5;241m=\u001b[39m model\u001b[38;5;241m.\u001b[39mpredict(X_val)\n",
      "File \u001b[1;32m~\\AppData\\Roaming\\Python\\Python310\\site-packages\\keras\\utils\\traceback_utils.py:65\u001b[0m, in \u001b[0;36mfilter_traceback.<locals>.error_handler\u001b[1;34m(*args, **kwargs)\u001b[0m\n\u001b[0;32m     63\u001b[0m filtered_tb \u001b[38;5;241m=\u001b[39m \u001b[38;5;28;01mNone\u001b[39;00m\n\u001b[0;32m     64\u001b[0m \u001b[38;5;28;01mtry\u001b[39;00m:\n\u001b[1;32m---> 65\u001b[0m     \u001b[38;5;28;01mreturn\u001b[39;00m fn(\u001b[38;5;241m*\u001b[39margs, \u001b[38;5;241m*\u001b[39m\u001b[38;5;241m*\u001b[39mkwargs)\n\u001b[0;32m     66\u001b[0m \u001b[38;5;28;01mexcept\u001b[39;00m \u001b[38;5;167;01mException\u001b[39;00m \u001b[38;5;28;01mas\u001b[39;00m e:\n\u001b[0;32m     67\u001b[0m     filtered_tb \u001b[38;5;241m=\u001b[39m _process_traceback_frames(e\u001b[38;5;241m.\u001b[39m__traceback__)\n",
      "File \u001b[1;32m~\\AppData\\Roaming\\Python\\Python310\\site-packages\\keras\\engine\\training.py:1685\u001b[0m, in \u001b[0;36mModel.fit\u001b[1;34m(self, x, y, batch_size, epochs, verbose, callbacks, validation_split, validation_data, shuffle, class_weight, sample_weight, initial_epoch, steps_per_epoch, validation_steps, validation_batch_size, validation_freq, max_queue_size, workers, use_multiprocessing)\u001b[0m\n\u001b[0;32m   1677\u001b[0m \u001b[38;5;28;01mwith\u001b[39;00m tf\u001b[38;5;241m.\u001b[39mprofiler\u001b[38;5;241m.\u001b[39mexperimental\u001b[38;5;241m.\u001b[39mTrace(\n\u001b[0;32m   1678\u001b[0m     \u001b[38;5;124m\"\u001b[39m\u001b[38;5;124mtrain\u001b[39m\u001b[38;5;124m\"\u001b[39m,\n\u001b[0;32m   1679\u001b[0m     epoch_num\u001b[38;5;241m=\u001b[39mepoch,\n\u001b[1;32m   (...)\u001b[0m\n\u001b[0;32m   1682\u001b[0m     _r\u001b[38;5;241m=\u001b[39m\u001b[38;5;241m1\u001b[39m,\n\u001b[0;32m   1683\u001b[0m ):\n\u001b[0;32m   1684\u001b[0m     callbacks\u001b[38;5;241m.\u001b[39mon_train_batch_begin(step)\n\u001b[1;32m-> 1685\u001b[0m     tmp_logs \u001b[38;5;241m=\u001b[39m \u001b[38;5;28;43mself\u001b[39;49m\u001b[38;5;241;43m.\u001b[39;49m\u001b[43mtrain_function\u001b[49m\u001b[43m(\u001b[49m\u001b[43miterator\u001b[49m\u001b[43m)\u001b[49m\n\u001b[0;32m   1686\u001b[0m     \u001b[38;5;28;01mif\u001b[39;00m data_handler\u001b[38;5;241m.\u001b[39mshould_sync:\n\u001b[0;32m   1687\u001b[0m         context\u001b[38;5;241m.\u001b[39masync_wait()\n",
      "File \u001b[1;32m~\\AppData\\Roaming\\Python\\Python310\\site-packages\\tensorflow\\python\\util\\traceback_utils.py:150\u001b[0m, in \u001b[0;36mfilter_traceback.<locals>.error_handler\u001b[1;34m(*args, **kwargs)\u001b[0m\n\u001b[0;32m    148\u001b[0m filtered_tb \u001b[38;5;241m=\u001b[39m \u001b[38;5;28;01mNone\u001b[39;00m\n\u001b[0;32m    149\u001b[0m \u001b[38;5;28;01mtry\u001b[39;00m:\n\u001b[1;32m--> 150\u001b[0m   \u001b[38;5;28;01mreturn\u001b[39;00m fn(\u001b[38;5;241m*\u001b[39margs, \u001b[38;5;241m*\u001b[39m\u001b[38;5;241m*\u001b[39mkwargs)\n\u001b[0;32m    151\u001b[0m \u001b[38;5;28;01mexcept\u001b[39;00m \u001b[38;5;167;01mException\u001b[39;00m \u001b[38;5;28;01mas\u001b[39;00m e:\n\u001b[0;32m    152\u001b[0m   filtered_tb \u001b[38;5;241m=\u001b[39m _process_traceback_frames(e\u001b[38;5;241m.\u001b[39m__traceback__)\n",
      "File \u001b[1;32m~\\AppData\\Roaming\\Python\\Python310\\site-packages\\tensorflow\\python\\eager\\polymorphic_function\\polymorphic_function.py:894\u001b[0m, in \u001b[0;36mFunction.__call__\u001b[1;34m(self, *args, **kwds)\u001b[0m\n\u001b[0;32m    891\u001b[0m compiler \u001b[38;5;241m=\u001b[39m \u001b[38;5;124m\"\u001b[39m\u001b[38;5;124mxla\u001b[39m\u001b[38;5;124m\"\u001b[39m \u001b[38;5;28;01mif\u001b[39;00m \u001b[38;5;28mself\u001b[39m\u001b[38;5;241m.\u001b[39m_jit_compile \u001b[38;5;28;01melse\u001b[39;00m \u001b[38;5;124m\"\u001b[39m\u001b[38;5;124mnonXla\u001b[39m\u001b[38;5;124m\"\u001b[39m\n\u001b[0;32m    893\u001b[0m \u001b[38;5;28;01mwith\u001b[39;00m OptionalXlaContext(\u001b[38;5;28mself\u001b[39m\u001b[38;5;241m.\u001b[39m_jit_compile):\n\u001b[1;32m--> 894\u001b[0m   result \u001b[38;5;241m=\u001b[39m \u001b[38;5;28mself\u001b[39m\u001b[38;5;241m.\u001b[39m_call(\u001b[38;5;241m*\u001b[39margs, \u001b[38;5;241m*\u001b[39m\u001b[38;5;241m*\u001b[39mkwds)\n\u001b[0;32m    896\u001b[0m new_tracing_count \u001b[38;5;241m=\u001b[39m \u001b[38;5;28mself\u001b[39m\u001b[38;5;241m.\u001b[39mexperimental_get_tracing_count()\n\u001b[0;32m    897\u001b[0m without_tracing \u001b[38;5;241m=\u001b[39m (tracing_count \u001b[38;5;241m==\u001b[39m new_tracing_count)\n",
      "File \u001b[1;32m~\\AppData\\Roaming\\Python\\Python310\\site-packages\\tensorflow\\python\\eager\\polymorphic_function\\polymorphic_function.py:926\u001b[0m, in \u001b[0;36mFunction._call\u001b[1;34m(self, *args, **kwds)\u001b[0m\n\u001b[0;32m    923\u001b[0m   \u001b[38;5;28mself\u001b[39m\u001b[38;5;241m.\u001b[39m_lock\u001b[38;5;241m.\u001b[39mrelease()\n\u001b[0;32m    924\u001b[0m   \u001b[38;5;66;03m# In this case we have created variables on the first call, so we run the\u001b[39;00m\n\u001b[0;32m    925\u001b[0m   \u001b[38;5;66;03m# defunned version which is guaranteed to never create variables.\u001b[39;00m\n\u001b[1;32m--> 926\u001b[0m   \u001b[38;5;28;01mreturn\u001b[39;00m \u001b[38;5;28mself\u001b[39m\u001b[38;5;241m.\u001b[39m_no_variable_creation_fn(\u001b[38;5;241m*\u001b[39margs, \u001b[38;5;241m*\u001b[39m\u001b[38;5;241m*\u001b[39mkwds)  \u001b[38;5;66;03m# pylint: disable=not-callable\u001b[39;00m\n\u001b[0;32m    927\u001b[0m \u001b[38;5;28;01melif\u001b[39;00m \u001b[38;5;28mself\u001b[39m\u001b[38;5;241m.\u001b[39m_variable_creation_fn \u001b[38;5;129;01mis\u001b[39;00m \u001b[38;5;129;01mnot\u001b[39;00m \u001b[38;5;28;01mNone\u001b[39;00m:\n\u001b[0;32m    928\u001b[0m   \u001b[38;5;66;03m# Release the lock early so that multiple threads can perform the call\u001b[39;00m\n\u001b[0;32m    929\u001b[0m   \u001b[38;5;66;03m# in parallel.\u001b[39;00m\n\u001b[0;32m    930\u001b[0m   \u001b[38;5;28mself\u001b[39m\u001b[38;5;241m.\u001b[39m_lock\u001b[38;5;241m.\u001b[39mrelease()\n",
      "File \u001b[1;32m~\\AppData\\Roaming\\Python\\Python310\\site-packages\\tensorflow\\python\\eager\\polymorphic_function\\tracing_compiler.py:143\u001b[0m, in \u001b[0;36mTracingCompiler.__call__\u001b[1;34m(self, *args, **kwargs)\u001b[0m\n\u001b[0;32m    140\u001b[0m \u001b[38;5;28;01mwith\u001b[39;00m \u001b[38;5;28mself\u001b[39m\u001b[38;5;241m.\u001b[39m_lock:\n\u001b[0;32m    141\u001b[0m   (concrete_function,\n\u001b[0;32m    142\u001b[0m    filtered_flat_args) \u001b[38;5;241m=\u001b[39m \u001b[38;5;28mself\u001b[39m\u001b[38;5;241m.\u001b[39m_maybe_define_function(args, kwargs)\n\u001b[1;32m--> 143\u001b[0m \u001b[38;5;28;01mreturn\u001b[39;00m \u001b[43mconcrete_function\u001b[49m\u001b[38;5;241;43m.\u001b[39;49m\u001b[43m_call_flat\u001b[49m\u001b[43m(\u001b[49m\n\u001b[0;32m    144\u001b[0m \u001b[43m    \u001b[49m\u001b[43mfiltered_flat_args\u001b[49m\u001b[43m,\u001b[49m\u001b[43m \u001b[49m\u001b[43mcaptured_inputs\u001b[49m\u001b[38;5;241;43m=\u001b[39;49m\u001b[43mconcrete_function\u001b[49m\u001b[38;5;241;43m.\u001b[39;49m\u001b[43mcaptured_inputs\u001b[49m\u001b[43m)\u001b[49m\n",
      "File \u001b[1;32m~\\AppData\\Roaming\\Python\\Python310\\site-packages\\tensorflow\\python\\eager\\polymorphic_function\\monomorphic_function.py:1757\u001b[0m, in \u001b[0;36mConcreteFunction._call_flat\u001b[1;34m(self, args, captured_inputs, cancellation_manager)\u001b[0m\n\u001b[0;32m   1753\u001b[0m possible_gradient_type \u001b[38;5;241m=\u001b[39m gradients_util\u001b[38;5;241m.\u001b[39mPossibleTapeGradientTypes(args)\n\u001b[0;32m   1754\u001b[0m \u001b[38;5;28;01mif\u001b[39;00m (possible_gradient_type \u001b[38;5;241m==\u001b[39m gradients_util\u001b[38;5;241m.\u001b[39mPOSSIBLE_GRADIENT_TYPES_NONE\n\u001b[0;32m   1755\u001b[0m     \u001b[38;5;129;01mand\u001b[39;00m executing_eagerly):\n\u001b[0;32m   1756\u001b[0m   \u001b[38;5;66;03m# No tape is watching; skip to running the function.\u001b[39;00m\n\u001b[1;32m-> 1757\u001b[0m   \u001b[38;5;28;01mreturn\u001b[39;00m \u001b[38;5;28mself\u001b[39m\u001b[38;5;241m.\u001b[39m_build_call_outputs(\u001b[38;5;28;43mself\u001b[39;49m\u001b[38;5;241;43m.\u001b[39;49m\u001b[43m_inference_function\u001b[49m\u001b[38;5;241;43m.\u001b[39;49m\u001b[43mcall\u001b[49m\u001b[43m(\u001b[49m\n\u001b[0;32m   1758\u001b[0m \u001b[43m      \u001b[49m\u001b[43mctx\u001b[49m\u001b[43m,\u001b[49m\u001b[43m \u001b[49m\u001b[43margs\u001b[49m\u001b[43m,\u001b[49m\u001b[43m \u001b[49m\u001b[43mcancellation_manager\u001b[49m\u001b[38;5;241;43m=\u001b[39;49m\u001b[43mcancellation_manager\u001b[49m\u001b[43m)\u001b[49m)\n\u001b[0;32m   1759\u001b[0m forward_backward \u001b[38;5;241m=\u001b[39m \u001b[38;5;28mself\u001b[39m\u001b[38;5;241m.\u001b[39m_select_forward_and_backward_functions(\n\u001b[0;32m   1760\u001b[0m     args,\n\u001b[0;32m   1761\u001b[0m     possible_gradient_type,\n\u001b[0;32m   1762\u001b[0m     executing_eagerly)\n\u001b[0;32m   1763\u001b[0m forward_function, args_with_tangents \u001b[38;5;241m=\u001b[39m forward_backward\u001b[38;5;241m.\u001b[39mforward()\n",
      "File \u001b[1;32m~\\AppData\\Roaming\\Python\\Python310\\site-packages\\tensorflow\\python\\eager\\polymorphic_function\\monomorphic_function.py:381\u001b[0m, in \u001b[0;36m_EagerDefinedFunction.call\u001b[1;34m(self, ctx, args, cancellation_manager)\u001b[0m\n\u001b[0;32m    379\u001b[0m \u001b[38;5;28;01mwith\u001b[39;00m _InterpolateFunctionError(\u001b[38;5;28mself\u001b[39m):\n\u001b[0;32m    380\u001b[0m   \u001b[38;5;28;01mif\u001b[39;00m cancellation_manager \u001b[38;5;129;01mis\u001b[39;00m \u001b[38;5;28;01mNone\u001b[39;00m:\n\u001b[1;32m--> 381\u001b[0m     outputs \u001b[38;5;241m=\u001b[39m \u001b[43mexecute\u001b[49m\u001b[38;5;241;43m.\u001b[39;49m\u001b[43mexecute\u001b[49m\u001b[43m(\u001b[49m\n\u001b[0;32m    382\u001b[0m \u001b[43m        \u001b[49m\u001b[38;5;28;43mstr\u001b[39;49m\u001b[43m(\u001b[49m\u001b[38;5;28;43mself\u001b[39;49m\u001b[38;5;241;43m.\u001b[39;49m\u001b[43msignature\u001b[49m\u001b[38;5;241;43m.\u001b[39;49m\u001b[43mname\u001b[49m\u001b[43m)\u001b[49m\u001b[43m,\u001b[49m\n\u001b[0;32m    383\u001b[0m \u001b[43m        \u001b[49m\u001b[43mnum_outputs\u001b[49m\u001b[38;5;241;43m=\u001b[39;49m\u001b[38;5;28;43mself\u001b[39;49m\u001b[38;5;241;43m.\u001b[39;49m\u001b[43m_num_outputs\u001b[49m\u001b[43m,\u001b[49m\n\u001b[0;32m    384\u001b[0m \u001b[43m        \u001b[49m\u001b[43minputs\u001b[49m\u001b[38;5;241;43m=\u001b[39;49m\u001b[43margs\u001b[49m\u001b[43m,\u001b[49m\n\u001b[0;32m    385\u001b[0m \u001b[43m        \u001b[49m\u001b[43mattrs\u001b[49m\u001b[38;5;241;43m=\u001b[39;49m\u001b[43mattrs\u001b[49m\u001b[43m,\u001b[49m\n\u001b[0;32m    386\u001b[0m \u001b[43m        \u001b[49m\u001b[43mctx\u001b[49m\u001b[38;5;241;43m=\u001b[39;49m\u001b[43mctx\u001b[49m\u001b[43m)\u001b[49m\n\u001b[0;32m    387\u001b[0m   \u001b[38;5;28;01melse\u001b[39;00m:\n\u001b[0;32m    388\u001b[0m     outputs \u001b[38;5;241m=\u001b[39m execute\u001b[38;5;241m.\u001b[39mexecute_with_cancellation(\n\u001b[0;32m    389\u001b[0m         \u001b[38;5;28mstr\u001b[39m(\u001b[38;5;28mself\u001b[39m\u001b[38;5;241m.\u001b[39msignature\u001b[38;5;241m.\u001b[39mname),\n\u001b[0;32m    390\u001b[0m         num_outputs\u001b[38;5;241m=\u001b[39m\u001b[38;5;28mself\u001b[39m\u001b[38;5;241m.\u001b[39m_num_outputs,\n\u001b[1;32m   (...)\u001b[0m\n\u001b[0;32m    393\u001b[0m         ctx\u001b[38;5;241m=\u001b[39mctx,\n\u001b[0;32m    394\u001b[0m         cancellation_manager\u001b[38;5;241m=\u001b[39mcancellation_manager)\n",
      "File \u001b[1;32m~\\AppData\\Roaming\\Python\\Python310\\site-packages\\tensorflow\\python\\eager\\execute.py:52\u001b[0m, in \u001b[0;36mquick_execute\u001b[1;34m(op_name, num_outputs, inputs, attrs, ctx, name)\u001b[0m\n\u001b[0;32m     50\u001b[0m \u001b[38;5;28;01mtry\u001b[39;00m:\n\u001b[0;32m     51\u001b[0m   ctx\u001b[38;5;241m.\u001b[39mensure_initialized()\n\u001b[1;32m---> 52\u001b[0m   tensors \u001b[38;5;241m=\u001b[39m \u001b[43mpywrap_tfe\u001b[49m\u001b[38;5;241;43m.\u001b[39;49m\u001b[43mTFE_Py_Execute\u001b[49m\u001b[43m(\u001b[49m\u001b[43mctx\u001b[49m\u001b[38;5;241;43m.\u001b[39;49m\u001b[43m_handle\u001b[49m\u001b[43m,\u001b[49m\u001b[43m \u001b[49m\u001b[43mdevice_name\u001b[49m\u001b[43m,\u001b[49m\u001b[43m \u001b[49m\u001b[43mop_name\u001b[49m\u001b[43m,\u001b[49m\n\u001b[0;32m     53\u001b[0m \u001b[43m                                      \u001b[49m\u001b[43minputs\u001b[49m\u001b[43m,\u001b[49m\u001b[43m \u001b[49m\u001b[43mattrs\u001b[49m\u001b[43m,\u001b[49m\u001b[43m \u001b[49m\u001b[43mnum_outputs\u001b[49m\u001b[43m)\u001b[49m\n\u001b[0;32m     54\u001b[0m \u001b[38;5;28;01mexcept\u001b[39;00m core\u001b[38;5;241m.\u001b[39m_NotOkStatusException \u001b[38;5;28;01mas\u001b[39;00m e:\n\u001b[0;32m     55\u001b[0m   \u001b[38;5;28;01mif\u001b[39;00m name \u001b[38;5;129;01mis\u001b[39;00m \u001b[38;5;129;01mnot\u001b[39;00m \u001b[38;5;28;01mNone\u001b[39;00m:\n",
      "\u001b[1;31mKeyboardInterrupt\u001b[0m: "
     ]
    }
   ],
   "source": [
    "# Escalar los datos\n",
    "scaler = StandardScaler()\n",
    "X_train = scaler.fit_transform(X_train)\n",
    "X_val = scaler.transform(X_val)\n",
    "\n",
    "# Crear y entrenar el modelo ANN\n",
    "model = create_ann_model(X_train.shape[1])\n",
    "model.fit(X_train, y_train, epochs=10, batch_size=64, verbose=1)\n",
    "\n",
    "# Calcular métricas\n",
    "y_pred = model.predict(X_val)\n",
    "y_pred_binary = (y_pred >= 0.5).astype(int)\n",
    "f1 = f1_score(y_val, y_pred_binary)\n",
    "accuracy = accuracy_score(y_val, y_pred_binary)\n",
    "precision = precision_score(y_val, y_pred_binary)\n",
    "recall = recall_score(y_val, y_pred_binary)\n",
    "cm = confusion_matrix(y_val, y_pred_binary)"
   ]
  },
  {
   "cell_type": "markdown",
   "metadata": {},
   "source": [
    "Generamos los resultados del entrenamiento. Empezamos con la curva ROC"
   ]
  },
  {
   "cell_type": "code",
   "execution_count": null,
   "metadata": {},
   "outputs": [],
   "source": [
    "fpr, tpr, _ = roc_curve(y_val, y_pred)\n",
    "roc_auc = auc(fpr, tpr)\n",
    "plt.figure(figsize=(10, 5))\n",
    "plt.plot(fpr, tpr, color='darkorange', lw=2, label=f'ROC curve (area = {roc_auc:.2f})')\n",
    "plt.plot([0, 1], [0, 1], color='navy', lw=2, linestyle='--')\n",
    "plt.xlim([0.0, 1.0])\n",
    "plt.ylim([0.0, 1.05])\n",
    "plt.xlabel('False Positive Rate')\n",
    "plt.ylabel('True Positive Rate')\n",
    "plt.title('ROC Curve for Combined Data')\n",
    "plt.legend(loc=\"lower right\")\n",
    "plt.savefig(os.path.join(roc_folder, 'roc_curve_combined.png'))\n",
    "plt.close()"
   ]
  },
  {
   "cell_type": "markdown",
   "metadata": {},
   "source": [
    "Matriz de confusión"
   ]
  },
  {
   "cell_type": "code",
   "execution_count": null,
   "metadata": {},
   "outputs": [],
   "source": [
    "plt.figure(figsize=(6, 5))\n",
    "disp = ConfusionMatrixDisplay(confusion_matrix=cm)\n",
    "disp.plot(cmap=plt.cm.Blues)\n",
    "plt.title('Confusion Matrix for Combined Data')\n",
    "plt.savefig(os.path.join(conf_matrix_folder, 'conf_matrix_combined.png'))\n",
    "plt.close()"
   ]
  },
  {
   "cell_type": "markdown",
   "metadata": {},
   "source": [
    "Metricas F1, Precisión, Efectividad y Recall"
   ]
  },
  {
   "cell_type": "code",
   "execution_count": null,
   "metadata": {},
   "outputs": [],
   "source": [
    "metrics_file_path = os.path.join(metrics_folder, 'model_metrics.txt')\n",
    "with open(metrics_file_path, 'w') as metrics_file:\n",
    "    metrics_file.write(\"Metrics for Combined Data:\\n\")\n",
    "    metrics_file.write(f\"F1 Score: {f1:.2f}\\n\")\n",
    "    metrics_file.write(f\"Accuracy: {accuracy:.2f}\\n\")\n",
    "    metrics_file.write(f\"Precision: {precision:.2f}\\n\")\n",
    "    metrics_file.write(f\"Recall: {recall:.2f}\\n\")\n",
    "    metrics_file.write(f\"Confusion Matrix:\\n{cm}\\n\\n\")\n",
    "\n",
    "print(\"Revisa las carpetas dentro de 'ANN_combined_performance' para ver el desempeño del modelo.\")"
   ]
  },
  {
   "cell_type": "markdown",
   "metadata": {},
   "source": [
    "### Entrenamiento incremental\n",
    "Vamos a configurar el modelo inicial"
   ]
  },
  {
   "cell_type": "code",
   "execution_count": null,
   "metadata": {},
   "outputs": [],
   "source": [
    "# Configuración del modelo ANN\n",
    "def create_ann_model(input_dim):\n",
    "    model = Sequential()\n",
    "    model.add(Dense(64, input_dim=input_dim, activation='relu'))\n",
    "    model.add(Dense(32, activation='relu'))\n",
    "    model.add(Dense(1, activation='sigmoid'))\n",
    "    model.compile(optimizer='adam', loss='binary_crossentropy', metrics=['accuracy'])\n",
    "    return model"
   ]
  },
  {
   "cell_type": "markdown",
   "metadata": {},
   "source": [
    "Carpetas necesarias para tener los outputs generados del entrenamiento y validación"
   ]
  },
  {
   "cell_type": "code",
   "execution_count": null,
   "metadata": {},
   "outputs": [],
   "source": [
    "# Configurar directorios\n",
    "folder_path = 'ANN_incremental_performance'\n",
    "roc_folder = os.path.join(folder_path, 'roc_curves')\n",
    "conf_matrix_folder = os.path.join(folder_path, 'conf_matrices')\n",
    "metrics_folder = os.path.join(folder_path, 'metrics_texts')\n",
    "\n",
    "# Asegurarse de que las carpetas estén limpias\n",
    "for path in [folder_path, roc_folder, conf_matrix_folder, metrics_folder]:\n",
    "    if os.path.exists(path):\n",
    "        shutil.rmtree(path)\n",
    "    os.makedirs(path)"
   ]
  },
  {
   "cell_type": "code",
   "execution_count": null,
   "metadata": {},
   "outputs": [
    {
     "name": "stdout",
     "output_type": "stream",
     "text": [
      "Entrenando con datos de: 2019-01-01 00:00:00\n",
      "Epoch 1/5\n",
      "757/757 [==============================] - 4s 3ms/step - loss: 0.1162 - accuracy: 0.9591\n",
      "Epoch 2/5\n",
      "757/757 [==============================] - 2s 3ms/step - loss: 0.0341 - accuracy: 0.9898\n",
      "Epoch 3/5\n",
      "757/757 [==============================] - 2s 3ms/step - loss: 0.0204 - accuracy: 0.9940\n",
      "Epoch 4/5\n",
      "757/757 [==============================] - 2s 3ms/step - loss: 0.0129 - accuracy: 0.9962\n",
      "Epoch 5/5\n",
      "757/757 [==============================] - 2s 3ms/step - loss: 0.0085 - accuracy: 0.9974\n",
      "649/649 [==============================] - 1s 2ms/step\n",
      "Entrenando con datos de: 2019-02-01 00:00:00\n",
      "Epoch 1/5\n",
      "718/718 [==============================] - 2s 3ms/step - loss: 0.0285 - accuracy: 0.9915\n",
      "Epoch 2/5\n",
      "718/718 [==============================] - 2s 3ms/step - loss: 0.0100 - accuracy: 0.9971\n",
      "Epoch 3/5\n",
      "718/718 [==============================] - 2s 3ms/step - loss: 0.0069 - accuracy: 0.9979\n",
      "Epoch 4/5\n",
      "718/718 [==============================] - 2s 3ms/step - loss: 0.0050 - accuracy: 0.9985\n",
      "Epoch 5/5\n",
      "718/718 [==============================] - 2s 3ms/step - loss: 0.0034 - accuracy: 0.9992\n",
      "616/616 [==============================] - 1s 2ms/step\n",
      "Entrenando con datos de: 2019-03-01 00:00:00\n",
      "Epoch 1/5\n",
      "1025/1025 [==============================] - 3s 3ms/step - loss: 0.0307 - accuracy: 0.9905\n",
      "Epoch 2/5\n",
      "1025/1025 [==============================] - 3s 3ms/step - loss: 0.0131 - accuracy: 0.9956\n",
      "Epoch 3/5\n",
      "1025/1025 [==============================] - 3s 3ms/step - loss: 0.0083 - accuracy: 0.9976\n",
      "Epoch 4/5\n",
      "1025/1025 [==============================] - 3s 3ms/step - loss: 0.0067 - accuracy: 0.9980\n",
      "Epoch 5/5\n",
      "1025/1025 [==============================] - 3s 3ms/step - loss: 0.0055 - accuracy: 0.9984\n",
      "879/879 [==============================] - 2s 2ms/step\n",
      "Entrenando con datos de: 2019-04-01 00:00:00\n",
      "Epoch 1/5\n",
      "985/985 [==============================] - 4s 3ms/step - loss: 0.0689 - accuracy: 0.9766\n",
      "Epoch 2/5\n",
      "985/985 [==============================] - 3s 3ms/step - loss: 0.0154 - accuracy: 0.9957\n",
      "Epoch 3/5\n",
      "985/985 [==============================] - 3s 3ms/step - loss: 0.0082 - accuracy: 0.9978\n",
      "Epoch 4/5\n",
      "985/985 [==============================] - 3s 3ms/step - loss: 0.0057 - accuracy: 0.9986\n",
      "Epoch 5/5\n",
      "985/985 [==============================] - 3s 3ms/step - loss: 0.0040 - accuracy: 0.9990\n",
      "845/845 [==============================] - 2s 2ms/step\n",
      "Entrenando con datos de: 2019-05-01 00:00:00\n",
      "Epoch 1/5\n",
      "1050/1050 [==============================] - 3s 3ms/step - loss: 0.0275 - accuracy: 0.9913\n",
      "Epoch 2/5\n",
      "1050/1050 [==============================] - 3s 3ms/step - loss: 0.0098 - accuracy: 0.9968\n",
      "Epoch 3/5\n",
      "1050/1050 [==============================] - 3s 3ms/step - loss: 0.0068 - accuracy: 0.9980\n",
      "Epoch 4/5\n",
      "1050/1050 [==============================] - 3s 3ms/step - loss: 0.0055 - accuracy: 0.9984\n",
      "Epoch 5/5\n",
      "1050/1050 [==============================] - 3s 3ms/step - loss: 0.0038 - accuracy: 0.9988\n",
      "900/900 [==============================] - 2s 2ms/step\n",
      "Entrenando con datos de: 2019-06-01 00:00:00\n",
      "Epoch 1/5\n",
      "1247/1247 [==============================] - 4s 3ms/step - loss: 0.0230 - accuracy: 0.9931\n",
      "Epoch 2/5\n",
      "1247/1247 [==============================] - 3s 3ms/step - loss: 0.0072 - accuracy: 0.9979\n",
      "Epoch 3/5\n",
      "1247/1247 [==============================] - 4s 3ms/step - loss: 0.0043 - accuracy: 0.9988\n",
      "Epoch 4/5\n",
      "1247/1247 [==============================] - 4s 3ms/step - loss: 0.0031 - accuracy: 0.9991\n",
      "Epoch 5/5\n",
      "1247/1247 [==============================] - 4s 3ms/step - loss: 0.0019 - accuracy: 0.9994\n",
      "1069/1069 [==============================] - 3s 2ms/step\n",
      "Entrenando con datos de: 2019-07-01 00:00:00\n",
      "Epoch 1/5\n",
      "1255/1255 [==============================] - 5s 3ms/step - loss: 0.0740 - accuracy: 0.9741\n",
      "Epoch 2/5\n",
      "1255/1255 [==============================] - 4s 3ms/step - loss: 0.0146 - accuracy: 0.9962\n",
      "Epoch 3/5\n",
      "1255/1255 [==============================] - 3s 3ms/step - loss: 0.0080 - accuracy: 0.9978\n",
      "Epoch 4/5\n",
      "1255/1255 [==============================] - 3s 3ms/step - loss: 0.0052 - accuracy: 0.9987\n",
      "Epoch 5/5\n",
      "1255/1255 [==============================] - 4s 3ms/step - loss: 0.0033 - accuracy: 0.9991\n",
      "1076/1076 [==============================] - 2s 2ms/step\n",
      "Entrenando con datos de: 2019-08-01 00:00:00\n",
      "Epoch 1/5\n",
      "1266/1266 [==============================] - 4s 3ms/step - loss: 0.0282 - accuracy: 0.9924\n",
      "Epoch 2/5\n",
      "1266/1266 [==============================] - 3s 3ms/step - loss: 0.0088 - accuracy: 0.9976\n",
      "Epoch 3/5\n",
      "1266/1266 [==============================] - 4s 3ms/step - loss: 0.0061 - accuracy: 0.9982\n",
      "Epoch 4/5\n",
      "1266/1266 [==============================] - 4s 3ms/step - loss: 0.0041 - accuracy: 0.9989\n",
      "Epoch 5/5\n",
      "1266/1266 [==============================] - 4s 3ms/step - loss: 0.0032 - accuracy: 0.9991\n",
      "1085/1085 [==============================] - 3s 2ms/step\n",
      "Entrenando con datos de: 2019-09-01 00:00:00\n",
      "Epoch 1/5\n",
      "1022/1022 [==============================] - 3s 3ms/step - loss: 0.0267 - accuracy: 0.9922\n",
      "Epoch 2/5\n",
      "1022/1022 [==============================] - 3s 3ms/step - loss: 0.0090 - accuracy: 0.9974\n",
      "Epoch 3/5\n",
      "1022/1022 [==============================] - 3s 3ms/step - loss: 0.0059 - accuracy: 0.9983\n",
      "Epoch 4/5\n",
      "1022/1022 [==============================] - 3s 3ms/step - loss: 0.0039 - accuracy: 0.9989\n",
      "Epoch 5/5\n",
      "1022/1022 [==============================] - 3s 3ms/step - loss: 0.0032 - accuracy: 0.9991\n",
      "876/876 [==============================] - 2s 3ms/step\n",
      "Entrenando con datos de: 2019-10-01 00:00:00\n",
      "Epoch 1/5\n",
      "994/994 [==============================] - 4s 3ms/step - loss: 0.0643 - accuracy: 0.9782\n",
      "Epoch 2/5\n",
      "994/994 [==============================] - 2s 2ms/step - loss: 0.0184 - accuracy: 0.9944\n",
      "Epoch 3/5\n",
      "994/994 [==============================] - 3s 3ms/step - loss: 0.0106 - accuracy: 0.9970\n",
      "Epoch 4/5\n",
      "994/994 [==============================] - 3s 3ms/step - loss: 0.0074 - accuracy: 0.9980\n",
      "Epoch 5/5\n",
      "994/994 [==============================] - 3s 3ms/step - loss: 0.0055 - accuracy: 0.9983\n",
      "852/852 [==============================] - 2s 2ms/step\n",
      "Entrenando con datos de: 2019-11-01 00:00:00\n",
      "Epoch 1/5\n",
      "1019/1019 [==============================] - 3s 3ms/step - loss: 0.0298 - accuracy: 0.9912\n",
      "Epoch 2/5\n",
      "1019/1019 [==============================] - 3s 3ms/step - loss: 0.0101 - accuracy: 0.9970\n",
      "Epoch 3/5\n",
      "1019/1019 [==============================] - 3s 3ms/step - loss: 0.0062 - accuracy: 0.9982\n",
      "Epoch 4/5\n",
      "1019/1019 [==============================] - 3s 3ms/step - loss: 0.0044 - accuracy: 0.9986\n",
      "Epoch 5/5\n",
      "1019/1019 [==============================] - 3s 3ms/step - loss: 0.0033 - accuracy: 0.9991\n",
      "874/874 [==============================] - 2s 2ms/step\n",
      "Entrenando con datos de: 2019-12-01 00:00:00\n",
      "Epoch 1/5\n",
      "2044/2044 [==============================] - 5s 3ms/step - loss: 0.0241 - accuracy: 0.9927\n",
      "Epoch 2/5\n",
      "2044/2044 [==============================] - 5s 2ms/step - loss: 0.0084 - accuracy: 0.9974\n",
      "Epoch 3/5\n",
      "2044/2044 [==============================] - 5s 2ms/step - loss: 0.0060 - accuracy: 0.9982\n",
      "Epoch 4/5\n",
      "2044/2044 [==============================] - 5s 2ms/step - loss: 0.0045 - accuracy: 0.9986\n",
      "Epoch 5/5\n",
      "2044/2044 [==============================] - 5s 3ms/step - loss: 0.0036 - accuracy: 0.9990\n",
      "1752/1752 [==============================] - 3s 2ms/step\n",
      "Entrenando con datos de: 2020-01-01 00:00:00\n",
      "Epoch 1/5\n",
      "755/755 [==============================] - 3s 2ms/step - loss: 0.0772 - accuracy: 0.9749\n",
      "Epoch 2/5\n",
      "755/755 [==============================] - 2s 2ms/step - loss: 0.0210 - accuracy: 0.9941\n",
      "Epoch 3/5\n",
      "755/755 [==============================] - 2s 2ms/step - loss: 0.0114 - accuracy: 0.9970\n",
      "Epoch 4/5\n",
      "755/755 [==============================] - 2s 2ms/step - loss: 0.0065 - accuracy: 0.9981\n",
      "Epoch 5/5\n",
      "755/755 [==============================] - 2s 2ms/step - loss: 0.0039 - accuracy: 0.9990\n",
      "647/647 [==============================] - 1s 2ms/step\n",
      "Entrenando con datos de: 2020-02-01 00:00:00\n",
      "Epoch 1/5\n",
      "691/691 [==============================] - 2s 2ms/step - loss: 0.0174 - accuracy: 0.9953\n",
      "Epoch 2/5\n",
      "691/691 [==============================] - 2s 2ms/step - loss: 0.0054 - accuracy: 0.9986\n",
      "Epoch 3/5\n",
      "691/691 [==============================] - 2s 3ms/step - loss: 0.0040 - accuracy: 0.9988\n",
      "Epoch 4/5\n",
      "691/691 [==============================] - 2s 3ms/step - loss: 0.0030 - accuracy: 0.9992\n",
      "Epoch 5/5\n",
      "691/691 [==============================] - 2s 3ms/step - loss: 0.0019 - accuracy: 0.9996\n",
      "592/592 [==============================] - 1s 2ms/step\n",
      "Entrenando con datos de: 2020-03-01 00:00:00\n",
      "Epoch 1/5\n",
      "1054/1054 [==============================] - 3s 3ms/step - loss: 0.0221 - accuracy: 0.9937\n",
      "Epoch 2/5\n",
      "1054/1054 [==============================] - 3s 3ms/step - loss: 0.0074 - accuracy: 0.9978\n",
      "Epoch 3/5\n",
      "1054/1054 [==============================] - 3s 3ms/step - loss: 0.0052 - accuracy: 0.9985\n",
      "Epoch 4/5\n",
      "1054/1054 [==============================] - 3s 3ms/step - loss: 0.0035 - accuracy: 0.9990\n",
      "Epoch 5/5\n",
      "1054/1054 [==============================] - 3s 3ms/step - loss: 0.0026 - accuracy: 0.9993\n",
      "903/903 [==============================] - 2s 2ms/step\n",
      "Entrenando con datos de: 2020-04-01 00:00:00\n",
      "Epoch 1/5\n",
      "969/969 [==============================] - 4s 3ms/step - loss: 0.0615 - accuracy: 0.9809\n",
      "Epoch 2/5\n",
      "969/969 [==============================] - 3s 3ms/step - loss: 0.0139 - accuracy: 0.9964\n",
      "Epoch 3/5\n",
      "969/969 [==============================] - 3s 3ms/step - loss: 0.0079 - accuracy: 0.9980\n",
      "Epoch 4/5\n",
      "969/969 [==============================] - 3s 3ms/step - loss: 0.0049 - accuracy: 0.9987\n",
      "Epoch 5/5\n",
      "969/969 [==============================] - 3s 3ms/step - loss: 0.0036 - accuracy: 0.9989\n",
      "831/831 [==============================] - 2s 2ms/step\n",
      "Entrenando con datos de: 2020-05-01 00:00:00\n",
      "Epoch 1/5\n",
      "1074/1074 [==============================] - 3s 3ms/step - loss: 0.0253 - accuracy: 0.9928\n",
      "Epoch 2/5\n",
      "1074/1074 [==============================] - 3s 3ms/step - loss: 0.0091 - accuracy: 0.9976\n",
      "Epoch 3/5\n",
      "1074/1074 [==============================] - 3s 3ms/step - loss: 0.0062 - accuracy: 0.9983\n",
      "Epoch 4/5\n",
      "1074/1074 [==============================] - 3s 3ms/step - loss: 0.0045 - accuracy: 0.9988\n",
      "Epoch 5/5\n",
      "1074/1074 [==============================] - 3s 3ms/step - loss: 0.0036 - accuracy: 0.9991\n",
      "921/921 [==============================] - 2s 2ms/step\n",
      "Entrenando con datos de: 2020-06-01 00:00:00\n",
      "Epoch 1/5\n",
      "1271/1271 [==============================] - 4s 3ms/step - loss: 0.0195 - accuracy: 0.9937\n",
      "Epoch 2/5\n",
      "1271/1271 [==============================] - 3s 3ms/step - loss: 0.0060 - accuracy: 0.9983\n",
      "Epoch 3/5\n",
      "1271/1271 [==============================] - 4s 3ms/step - loss: 0.0037 - accuracy: 0.9990\n",
      "Epoch 4/5\n",
      "1271/1271 [==============================] - 3s 3ms/step - loss: 0.0027 - accuracy: 0.9992\n",
      "Epoch 5/5\n",
      "1271/1271 [==============================] - 3s 3ms/step - loss: 0.0024 - accuracy: 0.9993\n",
      "1089/1089 [==============================] - 2s 2ms/step\n",
      "Entrenando con datos de: 2020-07-01 00:00:00\n",
      "Epoch 1/5\n",
      "1245/1245 [==============================] - 5s 3ms/step - loss: 0.0787 - accuracy: 0.9739\n",
      "Epoch 2/5\n",
      "1245/1245 [==============================] - 3s 3ms/step - loss: 0.0181 - accuracy: 0.9950\n",
      "Epoch 3/5\n",
      "1245/1245 [==============================] - 3s 3ms/step - loss: 0.0092 - accuracy: 0.9976\n",
      "Epoch 4/5\n",
      "1245/1245 [==============================] - 3s 3ms/step - loss: 0.0069 - accuracy: 0.9981\n",
      "Epoch 5/5\n",
      "1245/1245 [==============================] - 3s 3ms/step - loss: 0.0038 - accuracy: 0.9991\n",
      "1067/1067 [==============================] - 2s 2ms/step\n",
      "Entrenando con datos de: 2020-08-01 00:00:00\n",
      "Epoch 1/5\n",
      "1286/1286 [==============================] - 4s 3ms/step - loss: 0.0287 - accuracy: 0.9918\n",
      "Epoch 2/5\n",
      "1286/1286 [==============================] - 4s 3ms/step - loss: 0.0086 - accuracy: 0.9975\n",
      "Epoch 3/5\n",
      "1286/1286 [==============================] - 4s 3ms/step - loss: 0.0053 - accuracy: 0.9986\n",
      "Epoch 4/5\n",
      "1286/1286 [==============================] - 4s 3ms/step - loss: 0.0035 - accuracy: 0.9990\n",
      "Epoch 5/5\n",
      "1286/1286 [==============================] - 4s 3ms/step - loss: 0.0029 - accuracy: 0.9992\n",
      "1102/1102 [==============================] - 2s 2ms/step\n"
     ]
    },
    {
     "name": "stderr",
     "output_type": "stream",
     "text": [
      "C:\\Users\\marco\\AppData\\Roaming\\Python\\Python310\\site-packages\\sklearn\\metrics\\_plot\\confusion_matrix.py:136: RuntimeWarning: More than 20 figures have been opened. Figures created through the pyplot interface (`matplotlib.pyplot.figure`) are retained until explicitly closed and may consume too much memory. (To control this warning, see the rcParam `figure.max_open_warning`). Consider using `matplotlib.pyplot.close()`.\n",
      "  fig, ax = plt.subplots()\n"
     ]
    },
    {
     "name": "stdout",
     "output_type": "stream",
     "text": [
      "Entrenando con datos de: 2020-09-01 00:00:00\n",
      "Epoch 1/5\n",
      "1007/1007 [==============================] - 3s 3ms/step - loss: 0.0186 - accuracy: 0.9949\n",
      "Epoch 2/5\n",
      "1007/1007 [==============================] - 3s 3ms/step - loss: 0.0044 - accuracy: 0.9987\n",
      "Epoch 3/5\n",
      "1007/1007 [==============================] - 3s 3ms/step - loss: 0.0028 - accuracy: 0.9992\n",
      "Epoch 4/5\n",
      "1007/1007 [==============================] - 3s 3ms/step - loss: 0.0017 - accuracy: 0.9995\n",
      "Epoch 5/5\n",
      "1007/1007 [==============================] - 3s 3ms/step - loss: 0.0019 - accuracy: 0.9995\n",
      "863/863 [==============================] - 2s 2ms/step\n"
     ]
    },
    {
     "name": "stderr",
     "output_type": "stream",
     "text": [
      "C:\\Users\\marco\\AppData\\Local\\Temp\\ipykernel_94812\\1990006100.py:42: RuntimeWarning: More than 20 figures have been opened. Figures created through the pyplot interface (`matplotlib.pyplot.figure`) are retained until explicitly closed and may consume too much memory. (To control this warning, see the rcParam `figure.max_open_warning`). Consider using `matplotlib.pyplot.close()`.\n",
      "  plt.figure(figsize=(10, 5))\n",
      "C:\\Users\\marco\\AppData\\Local\\Temp\\ipykernel_94812\\1990006100.py:55: RuntimeWarning: More than 20 figures have been opened. Figures created through the pyplot interface (`matplotlib.pyplot.figure`) are retained until explicitly closed and may consume too much memory. (To control this warning, see the rcParam `figure.max_open_warning`). Consider using `matplotlib.pyplot.close()`.\n",
      "  plt.figure(figsize=(6, 5))\n"
     ]
    },
    {
     "name": "stdout",
     "output_type": "stream",
     "text": [
      "Entrenando con datos de: 2020-10-01 00:00:00\n",
      "Epoch 1/5\n",
      "1004/1004 [==============================] - 4s 3ms/step - loss: 0.0720 - accuracy: 0.9749\n",
      "Epoch 2/5\n",
      "1004/1004 [==============================] - 3s 3ms/step - loss: 0.0172 - accuracy: 0.9947\n",
      "Epoch 3/5\n",
      "1004/1004 [==============================] - 3s 3ms/step - loss: 0.0099 - accuracy: 0.9973\n",
      "Epoch 4/5\n",
      "1004/1004 [==============================] - 3s 3ms/step - loss: 0.0059 - accuracy: 0.9984\n",
      "Epoch 5/5\n",
      "1004/1004 [==============================] - 3s 3ms/step - loss: 0.0043 - accuracy: 0.9988\n",
      "860/860 [==============================] - 2s 2ms/step\n",
      "Entrenando con datos de: 2020-11-01 00:00:00\n",
      "Epoch 1/5\n",
      "1053/1053 [==============================] - 3s 3ms/step - loss: 0.0232 - accuracy: 0.9938\n",
      "Epoch 2/5\n",
      "1053/1053 [==============================] - 3s 3ms/step - loss: 0.0066 - accuracy: 0.9984\n",
      "Epoch 3/5\n",
      "1053/1053 [==============================] - 3s 3ms/step - loss: 0.0040 - accuracy: 0.9991\n",
      "Epoch 4/5\n",
      "1053/1053 [==============================] - 3s 3ms/step - loss: 0.0028 - accuracy: 0.9993\n",
      "Epoch 5/5\n",
      "1053/1053 [==============================] - 3s 3ms/step - loss: 0.0022 - accuracy: 0.9995\n",
      "902/902 [==============================] - 2s 2ms/step\n",
      "Entrenando con datos de: 2020-12-01 00:00:00\n",
      "Epoch 1/5\n",
      "2027/2027 [==============================] - 6s 3ms/step - loss: 0.0154 - accuracy: 0.9959\n",
      "Epoch 2/5\n",
      "2027/2027 [==============================] - 6s 3ms/step - loss: 0.0043 - accuracy: 0.9988\n",
      "Epoch 3/5\n",
      "2027/2027 [==============================] - 6s 3ms/step - loss: 0.0027 - accuracy: 0.9993\n",
      "Epoch 4/5\n",
      "2027/2027 [==============================] - 6s 3ms/step - loss: 0.0019 - accuracy: 0.9995\n",
      "Epoch 5/5\n",
      "2027/2027 [==============================] - 6s 3ms/step - loss: 0.0017 - accuracy: 0.9995\n",
      "1737/1737 [==============================] - 4s 2ms/step\n",
      "Revisa las carpetas dentro de 'ANN_incremental_performance' para ver el desempeño de los modelos.\n"
     ]
    },
    {
     "data": {
      "text/plain": [
       "<Figure size 600x500 with 0 Axes>"
      ]
     },
     "metadata": {},
     "output_type": "display_data"
    },
    {
     "data": {
      "text/plain": [
       "<Figure size 600x500 with 0 Axes>"
      ]
     },
     "metadata": {},
     "output_type": "display_data"
    },
    {
     "data": {
      "text/plain": [
       "<Figure size 600x500 with 0 Axes>"
      ]
     },
     "metadata": {},
     "output_type": "display_data"
    },
    {
     "data": {
      "text/plain": [
       "<Figure size 600x500 with 0 Axes>"
      ]
     },
     "metadata": {},
     "output_type": "display_data"
    },
    {
     "data": {
      "text/plain": [
       "<Figure size 600x500 with 0 Axes>"
      ]
     },
     "metadata": {},
     "output_type": "display_data"
    },
    {
     "data": {
      "text/plain": [
       "<Figure size 600x500 with 0 Axes>"
      ]
     },
     "metadata": {},
     "output_type": "display_data"
    },
    {
     "data": {
      "text/plain": [
       "<Figure size 600x500 with 0 Axes>"
      ]
     },
     "metadata": {},
     "output_type": "display_data"
    },
    {
     "data": {
      "text/plain": [
       "<Figure size 600x500 with 0 Axes>"
      ]
     },
     "metadata": {},
     "output_type": "display_data"
    },
    {
     "data": {
      "text/plain": [
       "<Figure size 600x500 with 0 Axes>"
      ]
     },
     "metadata": {},
     "output_type": "display_data"
    },
    {
     "data": {
      "text/plain": [
       "<Figure size 600x500 with 0 Axes>"
      ]
     },
     "metadata": {},
     "output_type": "display_data"
    },
    {
     "data": {
      "text/plain": [
       "<Figure size 600x500 with 0 Axes>"
      ]
     },
     "metadata": {},
     "output_type": "display_data"
    },
    {
     "data": {
      "text/plain": [
       "<Figure size 600x500 with 0 Axes>"
      ]
     },
     "metadata": {},
     "output_type": "display_data"
    },
    {
     "data": {
      "text/plain": [
       "<Figure size 600x500 with 0 Axes>"
      ]
     },
     "metadata": {},
     "output_type": "display_data"
    },
    {
     "data": {
      "text/plain": [
       "<Figure size 600x500 with 0 Axes>"
      ]
     },
     "metadata": {},
     "output_type": "display_data"
    },
    {
     "data": {
      "text/plain": [
       "<Figure size 600x500 with 0 Axes>"
      ]
     },
     "metadata": {},
     "output_type": "display_data"
    },
    {
     "data": {
      "text/plain": [
       "<Figure size 600x500 with 0 Axes>"
      ]
     },
     "metadata": {},
     "output_type": "display_data"
    },
    {
     "data": {
      "text/plain": [
       "<Figure size 600x500 with 0 Axes>"
      ]
     },
     "metadata": {},
     "output_type": "display_data"
    },
    {
     "data": {
      "text/plain": [
       "<Figure size 600x500 with 0 Axes>"
      ]
     },
     "metadata": {},
     "output_type": "display_data"
    },
    {
     "data": {
      "text/plain": [
       "<Figure size 600x500 with 0 Axes>"
      ]
     },
     "metadata": {},
     "output_type": "display_data"
    },
    {
     "data": {
      "text/plain": [
       "<Figure size 600x500 with 0 Axes>"
      ]
     },
     "metadata": {},
     "output_type": "display_data"
    },
    {
     "data": {
      "text/plain": [
       "<Figure size 600x500 with 0 Axes>"
      ]
     },
     "metadata": {},
     "output_type": "display_data"
    },
    {
     "data": {
      "text/plain": [
       "<Figure size 600x500 with 0 Axes>"
      ]
     },
     "metadata": {},
     "output_type": "display_data"
    },
    {
     "data": {
      "text/plain": [
       "<Figure size 600x500 with 0 Axes>"
      ]
     },
     "metadata": {},
     "output_type": "display_data"
    },
    {
     "data": {
      "text/plain": [
       "<Figure size 600x500 with 0 Axes>"
      ]
     },
     "metadata": {},
     "output_type": "display_data"
    }
   ],
   "source": [
    "metrics_file_path = os.path.join(metrics_folder, 'model_metrics.txt')\n",
    "with open(metrics_file_path, 'w') as metrics_file:\n",
    "    month_count = 0  # Contador para el reentrenamiento\n",
    "\n",
    "    # Iterar sobre cada segmento mensual\n",
    "    for name, month_data in monthly_datasets.items():\n",
    "        print(f\"Entrenando con datos de: {name}\")\n",
    "\n",
    "        # Dividir los datos en entrenamiento y validación\n",
    "        X = month_data.drop(['is_fraud'], axis=1)\n",
    "        y = month_data['is_fraud']\n",
    "        X_train_month, X_val_month, y_train_month, y_val_month = train_test_split(\n",
    "            X, y, test_size=0.3, random_state=42)\n",
    "\n",
    "        # Escalar los datos\n",
    "        scaler = StandardScaler()\n",
    "        X_train_month = scaler.fit_transform(X_train_month)\n",
    "        X_val_month = scaler.transform(X_val_month)\n",
    "\n",
    "        # Reestablecer el modelo cada 3 meses\n",
    "        if month_count % 3 == 0:\n",
    "            model = create_ann_model(X_train_month.shape[1])\n",
    "\n",
    "        # Entrenamiento con validación\n",
    "        model.fit(X_train_month, y_train_month, epochs=5, batch_size=64, verbose=1)\n",
    "\n",
    "        # Incrementar el contador de meses\n",
    "        month_count += 1\n",
    "\n",
    "        # Calcular métricas\n",
    "        y_pred = model.predict(X_val_month)\n",
    "        y_pred_binary = (y_pred >= 0.5).astype(int)\n",
    "        f1 = f1_score(y_val_month, y_pred_binary)\n",
    "        accuracy = accuracy_score(y_val_month, y_pred_binary)\n",
    "        precision = precision_score(y_val_month, y_pred_binary)\n",
    "        recall = recall_score(y_val_month, y_pred_binary)\n",
    "        cm = confusion_matrix(y_val_month, y_pred_binary)\n",
    "\n",
    "        # Graficar ROC\n",
    "        fpr, tpr, _ = roc_curve(y_val_month, y_pred)\n",
    "        roc_auc = auc(fpr, tpr)\n",
    "        plt.figure(figsize=(10, 5))\n",
    "        plt.plot(fpr, tpr, color='darkorange', lw=2, label=f'ROC curve (area = {roc_auc:.2f})')\n",
    "        plt.plot([0, 1], [0, 1], color='navy', lw=2, linestyle='--')\n",
    "        plt.xlim([0.0, 1.0])\n",
    "        plt.ylim([0.0, 1.05])\n",
    "        plt.xlabel('False Positive Rate')\n",
    "        plt.ylabel('True Positive Rate')\n",
    "        plt.title(f'ROC Curve for {name.strftime(\"%B %Y\")}')\n",
    "        plt.legend(loc=\"lower right\")\n",
    "        plt.savefig(os.path.join(roc_folder, f'roc_curve_{name.strftime(\"%Y_%m\")}.png'))\n",
    "        plt.close()\n",
    "\n",
    "        # Graficar matriz de confusión\n",
    "        plt.figure(figsize=(6, 5))\n",
    "        disp = ConfusionMatrixDisplay(confusion_matrix=cm)\n",
    "        disp.plot(cmap=plt.cm.Blues)\n",
    "        plt.title(f'Confusion Matrix for {name.strftime(\"%B %Y\")}')\n",
    "        plt.savefig(os.path.join(conf_matrix_folder, f'conf_matrix_{name.strftime(\"%Y_%m\")}.png'))\n",
    "        plt.close()\n",
    "\n",
    "        # Escribir métricas en el archivo\n",
    "        metrics_file.write(f\"Metrics for {name.strftime('%B %Y')}:\\n\")\n",
    "        metrics_file.write(f\"F1 Score: {f1:.2f}\\n\")\n",
    "        metrics_file.write(f\"Accuracy: {accuracy:.2f}\\n\")\n",
    "        metrics_file.write(f\"Precision: {precision:.2f}\\n\")\n",
    "        metrics_file.write(f\"Recall: {recall:.2f}\\n\")\n",
    "        metrics_file.write(f\"Confusion Matrix:\\n{cm}\\n\\n\")\n",
    "\n",
    "print(\"Revisa las carpetas dentro de 'ANN_incremental_performance' para ver el desempeño de los modelos.\")"
   ]
  }
 ],
 "metadata": {
  "kernelspec": {
   "display_name": "Python 3",
   "language": "python",
   "name": "python3"
  },
  "language_info": {
   "codemirror_mode": {
    "name": "ipython",
    "version": 3
   },
   "file_extension": ".py",
   "mimetype": "text/x-python",
   "name": "python",
   "nbconvert_exporter": "python",
   "pygments_lexer": "ipython3",
   "version": "3.10.5"
  }
 },
 "nbformat": 4,
 "nbformat_minor": 2
}
